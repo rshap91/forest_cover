{
 "cells": [
  {
   "cell_type": "code",
   "execution_count": 1,
   "metadata": {},
   "outputs": [
    {
     "name": "stderr",
     "output_type": "stream",
     "text": [
      "/home/ec2-user/anaconda3/lib/python3.6/site-packages/sklearn/ensemble/weight_boosting.py:29: DeprecationWarning: numpy.core.umath_tests is an internal NumPy module and should not be imported. It will be removed in a future NumPy release.\n",
      "  from numpy.core.umath_tests import inner1d\n"
     ]
    }
   ],
   "source": [
    "import os\n",
    "import datetime as dt\n",
    "import time\n",
    "import json\n",
    "\n",
    "import pandas as pd\n",
    "import numpy as np\n",
    "from scipy import stats\n",
    "\n",
    "from sklearn.preprocessing import StandardScaler, MinMaxScaler, RobustScaler, PolynomialFeatures\n",
    "from sklearn.naive_bayes import BernoulliNB, GaussianNB, MultinomialNB\n",
    "from sklearn.decomposition import PCA, NMF, TruncatedSVD\n",
    "from sklearn.cluster import KMeans, DBSCAN\n",
    "from sklearn.model_selection import cross_val_score, StratifiedKFold, GridSearchCV\n",
    "from sklearn import metrics\n",
    "\n",
    "import lightgbm as lgb\n",
    "from lightgbm import LGBMClassifier\n",
    "\n",
    "from feature_selector import *"
   ]
  },
  {
   "cell_type": "code",
   "execution_count": 2,
   "metadata": {
    "collapsed": true
   },
   "outputs": [],
   "source": [
    "pd.options.display.max_columns = 80\n",
    "pd.options.display.float_format = lambda x : \"{:,.2f}\".format(x)\n"
   ]
  },
  {
   "cell_type": "code",
   "execution_count": 3,
   "metadata": {},
   "outputs": [
    {
     "data": {
      "text/plain": [
       "((15120, 54), (565892, 55))"
      ]
     },
     "execution_count": 3,
     "metadata": {},
     "output_type": "execute_result"
    }
   ],
   "source": [
    "train = pd.read_csv('clean_data/train.csv', dtype={'Id':str})\n",
    "test = pd.read_csv('clean_data/test.csv', dtype={'Id':str})\n",
    "\n",
    "train.shape, test.shape"
   ]
  },
  {
   "cell_type": "code",
   "execution_count": 4,
   "metadata": {
    "collapsed": true
   },
   "outputs": [],
   "source": [
    "with open('clean_data/train_cols.json', 'r') as f:\n",
    "    train_cols = json.load(f)"
   ]
  },
  {
   "cell_type": "code",
   "execution_count": 5,
   "metadata": {
    "collapsed": true
   },
   "outputs": [],
   "source": [
    "train_cols.keys()\n",
    "id_cols = train_cols['id']\n",
    "cat_cols = train_cols['cat_cols']\n",
    "int_cols = train_cols['int_cols']\n",
    "target_col = train_cols['target_col']\n",
    "\n",
    "ftr_cols = int_cols + cat_cols"
   ]
  },
  {
   "cell_type": "code",
   "execution_count": 6,
   "metadata": {
    "collapsed": true
   },
   "outputs": [],
   "source": [
    "ytrain = train[target_col]"
   ]
  },
  {
   "cell_type": "markdown",
   "metadata": {},
   "source": [
    "## Agenda\n",
    "\n",
    "    - Scale Data\n",
    "    - KMeans and DBSCAN for Cluster Labels as features\n",
    "    - Clustering On PCA/SVD/NMF\n",
    "    - NaiveBayes Probabilities as Features\n",
    "    - Run Through Feature Selector\n",
    "    - Polynomial Features\n",
    "    - Feature Selector Again"
   ]
  },
  {
   "cell_type": "markdown",
   "metadata": {},
   "source": [
    "### Scale Data"
   ]
  },
  {
   "cell_type": "code",
   "execution_count": null,
   "metadata": {
    "collapsed": true
   },
   "outputs": [],
   "source": [
    "mm = MinMaxScaler()\n",
    "xtrain_scaled = mm.fit_transform(train[ftr_cols])\n",
    "xtest_scaled = mm.transform(test[ftr_cols])\n",
    "ytrain = train[target_col]"
   ]
  },
  {
   "cell_type": "code",
   "execution_count": null,
   "metadata": {
    "collapsed": true
   },
   "outputs": [],
   "source": [
    "pd.DataFrame(xtrain_scaled, columns = ftr_cols).to_csv('clean_data/xtrain_scaled.csv',index=False)\n",
    "pd.DataFrame(xtest_scaled, columns=ftr_cols).to_csv('clean_data/xtest_scaled.csv',index=False)"
   ]
  },
  {
   "cell_type": "code",
   "execution_count": null,
   "metadata": {
    "collapsed": true
   },
   "outputs": [],
   "source": []
  },
  {
   "cell_type": "markdown",
   "metadata": {},
   "source": [
    "### KMeans"
   ]
  },
  {
   "cell_type": "code",
   "execution_count": null,
   "metadata": {
    "collapsed": true
   },
   "outputs": [],
   "source": [
    "km_train_data = {}\n",
    "km_test_data = {}\n",
    "for k in range(3,15):\n",
    "    print(k)\n",
    "    km = KMeans(k)\n",
    "    km_train = km.fit_predict(xtrain_scaled)\n",
    "    km_test = km.predict(xtest_scaled)\n",
    "    \n",
    "    km_train_data['K'+str(k)] = km_train\n",
    "    km_test_data['K'+str(k)] = km_test\n",
    "    \n",
    "    \n",
    "# make DFS\n",
    "km_train_df = pd.DataFrame(km_train_data)\n",
    "km_test_df = pd.DataFrame(km_test_data)"
   ]
  },
  {
   "cell_type": "code",
   "execution_count": null,
   "metadata": {
    "collapsed": true
   },
   "outputs": [],
   "source": [
    "km_train_df.to_csv('clean_data/km_train_df.csv',index=False)\n",
    "km_test_df.to_csv('clean_data/km_test_df.csv',index=False)"
   ]
  },
  {
   "cell_type": "markdown",
   "metadata": {},
   "source": [
    "### DBSCAN"
   ]
  },
  {
   "cell_type": "markdown",
   "metadata": {},
   "source": [
    "DB has no transform method so we can't use it on new data\n",
    "\n",
    "TODO: write predict method for db that just takes distances from cluster centers/avgs"
   ]
  },
  {
   "cell_type": "code",
   "execution_count": null,
   "metadata": {
    "collapsed": true
   },
   "outputs": [],
   "source": [
    "# db_train_data = {}\n",
    "# db_test_data = {}\n",
    "# for eps in [0.1, 0.5, 1, 1.25]:\n",
    "#     for ms in range(5,50,10):\n",
    "#         print('EPS:',eps, 'MS:', ms )\n",
    "#         db = DBSCAN(eps,ms, n_jobs=-1)\n",
    "#         db_train = db.fit_predict(xtrain_scaled)\n",
    "#         db_test = db.predict(xtest_scaled)\n",
    "#         db_train_data['EPS'+str(eps)+'_MS'+str(ms)] = db_train\n",
    "#         db_test_data['EPS'+str(eps)+'_MS'+str(ms)] = db_test\n",
    "        \n",
    "# # make DFS\n",
    "# db_train_df = pd.DataFrame(db_train_data)\n",
    "# db_test_df = pd.DataFrame(db_test_df)"
   ]
  },
  {
   "cell_type": "code",
   "execution_count": null,
   "metadata": {
    "collapsed": true
   },
   "outputs": [],
   "source": [
    "# db_train_df.to_csv('clean_data/db_train_df.csv',index=False)\n",
    "# db_test_df.to_csv('clean_data/db_test_df.csv',index=False)"
   ]
  },
  {
   "cell_type": "markdown",
   "metadata": {},
   "source": [
    "### SVD  & PCA"
   ]
  },
  {
   "cell_type": "code",
   "execution_count": null,
   "metadata": {
    "collapsed": true
   },
   "outputs": [],
   "source": [
    "svd = TruncatedSVD(n_components = 10)\n",
    "\n",
    "svd_train = svd.fit_transform(xtrain_scaled)\n",
    "svd_test = svd.transform(xtest_scaled)\n",
    "\n",
    "pca = PCA(n_components = 10)\n",
    "\n",
    "pca_train = pca.fit_transform(xtrain_scaled)\n",
    "pca_test = pca.transform(xtest_scaled)\n",
    "\n",
    "\n",
    "# make dataframes\n",
    "svd_train_df = pd.DataFrame(svd_train, columns = ['svd'+str(i) for i in range(svd_train.shape[1])])\n",
    "svd_test_df = pd.DataFrame(svd_test, columns = ['svd'+str(i) for i in range(svd_train.shape[1])])\n",
    "\n",
    "pca_train_df = pd.DataFrame(pca_train, columns = ['pca'+str(i) for i in range(svd_train.shape[1])])\n",
    "pca_test_df = pd.DataFrame(pca_test, columns = ['pca'+str(i) for i in range(svd_train.shape[1])])"
   ]
  },
  {
   "cell_type": "code",
   "execution_count": null,
   "metadata": {
    "collapsed": true
   },
   "outputs": [],
   "source": [
    "svd_train_df.to_csv('clean_data/svd_train_df.csv',index=False)\n",
    "svd_test_df.to_csv('clean_data/svd_test_df.csv',index=False)\n",
    "pca_train_df.to_csv('clean_data/pca_train_df.csv',index=False)\n",
    "pca_test_df.to_csv('clean_data/pca_test_df.csv',index=False)"
   ]
  },
  {
   "cell_type": "markdown",
   "metadata": {},
   "source": [
    "### Cluster On Transformed Matrices"
   ]
  },
  {
   "cell_type": "code",
   "execution_count": null,
   "metadata": {
    "collapsed": true
   },
   "outputs": [],
   "source": [
    "km_svd_train_data = {}\n",
    "km_svd_test_data = {}\n",
    "for k in range(3,15):\n",
    "    print(k)\n",
    "    km = KMeans(k)\n",
    "    km_train = km.fit_predict(svd_train)\n",
    "    km_test = km.predict(svd_test)\n",
    "    \n",
    "    km_svd_train_data['SVD_K'+str(k)] = km_train\n",
    "    km_svd_test_data['SVD_K'+str(k)] = km_test\n",
    "    \n",
    "km_pca_train_data = {}\n",
    "km_pca_test_data = {}\n",
    "for k in range(3,15):\n",
    "    print(k)\n",
    "    km = KMeans(k)\n",
    "    km_train = km.fit_predict(pca_train)\n",
    "    km_test = km.predict(pca_test)\n",
    "    \n",
    "    km_pca_train_data['PCA_K'+str(k)] = km_train\n",
    "    km_pca_test_data['PCA_K'+str(k)] = km_test\n",
    "    \n",
    "\n",
    "# Make DFS\n",
    "km_svd_train_df = pd.DataFrame(km_svd_train_data)\n",
    "km_svd_test_df = pd.DataFrame(km_svd_test_data)\n",
    "\n",
    "km_pca_train_df = pd.DataFrame(km_pca_train_data)\n",
    "km_pca_test_df = pd.DataFrame(km_pca_test_data)\n",
    "\n"
   ]
  },
  {
   "cell_type": "code",
   "execution_count": null,
   "metadata": {
    "collapsed": true
   },
   "outputs": [],
   "source": [
    "km_svd_train_df.to_csv('clean_data/km_svd_train_df.csv',index=False)\n",
    "km_svd_test_df.to_csv('clean_data/km_svd_test_df.csv',index=False)\n",
    "km_pca_train_df.to_csv('clean_data/km_pca_train_df.csv',index=False)\n",
    "km_pca_test_df.to_csv('clean_data/km_pca_test_df.csv',index=False)"
   ]
  },
  {
   "cell_type": "code",
   "execution_count": null,
   "metadata": {
    "collapsed": true
   },
   "outputs": [],
   "source": [
    "# db_svd_train_data = {}\n",
    "# db_svd_test_data = {}\n",
    "# for eps in [0.1, 0.5, 1, 1.25]:\n",
    "#     for ms in range(5,50,10):\n",
    "#         print('EPS:',eps, 'MS:', ms )\n",
    "#         db = DBSCAN(eps,ms, n_jobs=-1)\n",
    "#         db_train = db.fit_predict(svd_train)\n",
    "#         db_test = db.predict(svd_test)\n",
    "        \n",
    "#         db_svd_train_data['SVD_EPS'+str(eps)+'_MS'+str(ms)] = db_train\n",
    "#         db_svd_test_data['SVD_EPS'+str(eps)+'_MS'+str(ms)] = db_test\n",
    "        \n",
    "# db_pca_train_data = {}\n",
    "# db_pca_test_data = {}\n",
    "# for eps in [0.1, 0.5, 1, 1.25]:\n",
    "#     for ms in range(5,50,10):\n",
    "#         print('EPS:',eps, 'MS:', ms )\n",
    "#         db = DBSCAN(eps,ms, n_jobs=-1)\n",
    "#         db_train = db.fit_predict(pca_train)\n",
    "#         db_test = db.predict(pca_test)\n",
    "        \n",
    "#         db_pca_train_data['PCA_EPS'+str(eps)+'_MS'+str(ms)] = db_train\n",
    "#         db_pca_test_data['PCA_EPS'+str(eps)+'_MS'+str(ms)] = db_test\n",
    "        \n",
    "\n",
    "# # Make DFS\n",
    "# db_svd_train_df = pd.DataFrame(db_svd_train_data)\n",
    "# db_svd_test_df = pd.DataFrame(db_svd_test_data)\n",
    "\n",
    "# db_pca_train_df = pd.DataFrame(db_pca_train_data)\n",
    "# db_pca_test_df = pd.DataFrame(db_pca_test_data)\n"
   ]
  },
  {
   "cell_type": "code",
   "execution_count": null,
   "metadata": {
    "collapsed": true
   },
   "outputs": [],
   "source": [
    "# db_svd_train_df.to_csv('clean_data/db_svd_train_df.csv',index=False)\n",
    "# db_svd_test_df.to_csv('clean_data/db_svd_test_df.csv',index=False)\n",
    "# db_pca_train_df.to_csv('clean_data/db_pca_train_df.csv',index=False)\n",
    "# db_pca_test_df.to_csv('clean_data/db_pca_test_df.csv',index=False)"
   ]
  },
  {
   "cell_type": "markdown",
   "metadata": {},
   "source": [
    "### Naive Bayes"
   ]
  },
  {
   "cell_type": "code",
   "execution_count": null,
   "metadata": {
    "collapsed": true
   },
   "outputs": [],
   "source": [
    "class NaiveBayesClf():\n",
    "    \"\"\"\n",
    "    Uses Bernoulli NB for Binary Features,\n",
    "    Multinomial NB for integer ftrs,\n",
    "    Gaussian NB for all other ftrs.\n",
    "    \n",
    "    Final Probs is average of 3 predicted probabilities of above models.\n",
    "    \"\"\"\n",
    "    \n",
    "    def __init__(self, bparams={}, mparams={}, gparams={}):\n",
    "        self.bnb = BernoulliNB(**bparams)\n",
    "        self.mnb = MultinomialNB(**mparams)\n",
    "        self.gnb = GaussianNB(**gparams)\n",
    "        \n",
    "        \n",
    "    def get_cols(self, data):\n",
    "        bern_cols = data.columns[data.apply(lambda col: col.nunique() == 2)].tolist()\n",
    "        mult_cols = data.columns[(data.dtypes==int) & ~data.columns.isin(bern_cols)].tolist()\n",
    "        gaus_cols = data.columns[~data.columns.isin(bern_cols+mult_cols)]\n",
    "        assert len(bern_cols) + len(mult_cols) + len(gaus_cols) == data.shape[1]\n",
    "        \n",
    "        self.bern_locs = [data.columns.get_loc(b) for b in bern_cols]\n",
    "        self.mult_locs = [data.columns.get_loc(m) for m in mult_cols]\n",
    "        self.gaus_locs = [data.columns.get_loc(g) for g in gaus_cols]\n",
    "        \n",
    "    \n",
    "    def fit(self, data, target):\n",
    "        self.get_cols(data)\n",
    "        if self.bern_locs:\n",
    "            self.bnb.fit(data.values[:,self.bern_locs], target)\n",
    "        if self.mult_locs:\n",
    "            self.mnb.fit(data.values[:,self.mult_locs], target)\n",
    "        if self.gaus_locs:\n",
    "            self.gnb.fit(data.values[:,self.gaus_locs], target)\n",
    "\n",
    "    \n",
    "    def predict(self, new_data):\n",
    "        all_probs = []\n",
    "        if self.bern_locs:\n",
    "            bprobs = self.bnb.predict_proba(new_data[:,self.bern_locs])\n",
    "            all_probs.append(bprobs)\n",
    "        if self.mult_locs:\n",
    "            mprobs = self.mnb.predict_proba(new_data[:,self.mult_locs])\n",
    "            all_probs.append(mprobs)\n",
    "        if self.gaus_locs:\n",
    "            gprobs = self.gnb.predict_proba(new_data[:,self.gaus_locs])\n",
    "            all_probs.append(gprobs)\n",
    "        all_probs = np.asarray(all_probs)\n",
    "        final_probs = all_probs.mean(0)\n",
    "\n",
    "        return final_probs\n"
   ]
  },
  {
   "cell_type": "code",
   "execution_count": null,
   "metadata": {
    "collapsed": true
   },
   "outputs": [],
   "source": [
    "xtrain_scaled_df = pd.DataFrame(xtrain_scaled, columns = ftr_cols)\n",
    "xtest_scaled_df = pd.DataFrame(xtest_scaled, columns = ftr_cols)\n",
    "xtrain_scaled_df.head()"
   ]
  },
  {
   "cell_type": "code",
   "execution_count": null,
   "metadata": {
    "collapsed": true
   },
   "outputs": [],
   "source": [
    "nbc = NaiveBayesClf()\n",
    "nbc.fit(xtrain_scaled_df, train[target_col])\n",
    "nb_train = nbc.predict(xtrain_scaled_df.values)\n",
    "nb_test = nbc.predict(xtest_scaled_df.values)\n",
    "\n",
    "nb_train_df = pd.DataFrame(nb_train, columns = ['nb_prob_'+str(i) for i in range(nb_train.shape[1])])\n",
    "nb_test_df = pd.DataFrame(nb_test, columns = ['nb_prob_'+str(i) for i in range(nb_test.shape[1])])"
   ]
  },
  {
   "cell_type": "code",
   "execution_count": null,
   "metadata": {
    "collapsed": true
   },
   "outputs": [],
   "source": [
    "nb_train_df.to_csv('clean_data/nb_train_df.csv', index=False)\n",
    "nb_test_df.to_csv('clean_data/nb_test_df.csv', index=False)"
   ]
  },
  {
   "cell_type": "code",
   "execution_count": null,
   "metadata": {
    "collapsed": true,
    "scrolled": true
   },
   "outputs": [],
   "source": [
    "metrics.accuracy_score(ytrain.values, nb_train.argmax(1)+1)"
   ]
  },
  {
   "cell_type": "markdown",
   "metadata": {},
   "source": [
    "### Combine All New Ftrs"
   ]
  },
  {
   "cell_type": "code",
   "execution_count": null,
   "metadata": {
    "collapsed": true
   },
   "outputs": [],
   "source": [
    "import pandas as pd"
   ]
  },
  {
   "cell_type": "code",
   "execution_count": null,
   "metadata": {
    "collapsed": true
   },
   "outputs": [],
   "source": [
    "# xtrain_scaled_df \n",
    "# xtest_scaled_df\n",
    "\n",
    "km_train_df = pd.read_csv('clean_data/km_train_df.csv')\n",
    "svd_train_df = pd.read_csv('clean_data/svd_train_df.csv')\n",
    "pca_train_df = pd.read_csv('clean_data/pca_train_df.csv')\n",
    "km_svd_train_df = pd.read_csv('clean_data/km_svd_train_df.csv')\n",
    "km_pca_train_df = pd.read_csv('clean_data/km_pca_train_df.csv')\n",
    "nb_train_df = pd.read_csv('clean_data/nb_train_df.csv')\n",
    "\n",
    "\n",
    "km_test_df = pd.read_csv('clean_data/km_test_df.csv')\n",
    "svd_test_df = pd.read_csv('clean_data/svd_test_df.csv')\n",
    "pca_test_df = pd.read_csv('clean_data/pca_test_df.csv')\n",
    "km_svd_test_df = pd.read_csv('clean_data/km_svd_test_df.csv')\n",
    "km_pca_test_df = pd.read_csv('clean_data/km_pca_test_df.csv')\n",
    "nb_test_df = pd.read_csv('clean_data/nb_test_df.csv')"
   ]
  },
  {
   "cell_type": "code",
   "execution_count": null,
   "metadata": {
    "collapsed": true
   },
   "outputs": [],
   "source": [
    "all_train_ftrs = [\n",
    "    xtrain_scaled_df,\n",
    "    km_train_df,\n",
    "#     db_train_df,\n",
    "    svd_train_df,\n",
    "    pca_train_df,\n",
    "    km_svd_train_df,\n",
    "    km_pca_train_df,\n",
    "#     db_svd_train_df,\n",
    "#     db_pca_train_df,\n",
    "    nb_train_df\n",
    "]\n",
    "    \n",
    "all_test_ftrs = [ \n",
    "    xtest_scaled_df,\n",
    "    km_test_df,\n",
    "#     db_test_df,\n",
    "    svd_test_df,\n",
    "    pca_test_df,\n",
    "    km_svd_test_df,\n",
    "    km_pca_test_df,\n",
    "#     db_svd_test_df,\n",
    "#     db_pca_test_df,\n",
    "    nb_test_df\n",
    "]\n",
    "\n",
    "all_train_df = pd.concat(all_train_ftrs, axis=1)\n",
    "all_test_df = pd.concat(all_test_ftrs, axis=1)\n",
    "\n",
    "all_train_df.shape, all_test_df.shape"
   ]
  },
  {
   "cell_type": "code",
   "execution_count": null,
   "metadata": {
    "collapsed": true
   },
   "outputs": [],
   "source": [
    "all_train_df.to_csv('clean_data/all_train_df.csv', index=False)\n",
    "all_test_df.to_csv('clean_data/all_test_df.csv', index=False)"
   ]
  },
  {
   "cell_type": "markdown",
   "metadata": {},
   "source": [
    "### Feature Selector"
   ]
  },
  {
   "cell_type": "code",
   "execution_count": 11,
   "metadata": {
    "collapsed": true
   },
   "outputs": [],
   "source": [
    "all_train_df = pd.read_csv('clean_data/all_train_df.csv')\n",
    "all_test_df = pd.read_csv('clean_data/all_test_df.csv')"
   ]
  },
  {
   "cell_type": "code",
   "execution_count": 13,
   "metadata": {
    "collapsed": true
   },
   "outputs": [],
   "source": [
    "N=35\n",
    "seed =1111"
   ]
  },
  {
   "cell_type": "code",
   "execution_count": 14,
   "metadata": {},
   "outputs": [],
   "source": [
    "rf_params = {'n_estimators': all_train_df.shape[1]-1, 'max_features':N, 'n_jobs':-1, 'random_state':seed}\n",
    "gb_params = {'n_estimators': all_train_df.shape[1]-1, 'random_state':seed, 'max_depth':10}"
   ]
  },
  {
   "cell_type": "code",
   "execution_count": 26,
   "metadata": {},
   "outputs": [
    {
     "name": "stdout",
     "output_type": "stream",
     "text": [
      "Fitting LogReg\n",
      "Fitting estimator with 115 features.\n",
      "Fitting estimator with 104 features.\n",
      "Fitting estimator with 93 features.\n",
      "Fitting estimator with 82 features.\n",
      "Fitting estimator with 71 features.\n",
      "Fitting estimator with 60 features.\n",
      "Fitting estimator with 49 features.\n",
      "Fitting estimator with 38 features.\n",
      "\n",
      "Fitting RF\n",
      "Fitting estimator with 115 features.\n",
      "Fitting estimator with 104 features.\n",
      "Fitting estimator with 93 features.\n",
      "Fitting estimator with 82 features.\n",
      "Fitting estimator with 71 features.\n",
      "Fitting estimator with 60 features.\n",
      "Fitting estimator with 49 features.\n",
      "Fitting estimator with 38 features.\n",
      "\n",
      "Fitting GB\n",
      "Fitting estimator with 115 features.\n",
      "Fitting estimator with 104 features.\n",
      "Fitting estimator with 93 features.\n",
      "Fitting estimator with 82 features.\n",
      "Fitting estimator with 71 features.\n",
      "Fitting estimator with 60 features.\n",
      "Fitting estimator with 49 features.\n",
      "Fitting estimator with 38 features.\n",
      "\n",
      "Fitting Lasso with C = 0.30434782608695654\n",
      "Num Non-Zero Features: 86\n",
      "Fitting Lasso with C = 0.15217391304347827\n",
      "Num Non-Zero Features: 78\n",
      "Fitting Lasso with C = 0.07608695652173914\n",
      "Num Non-Zero Features: 70\n",
      "Fitting Lasso with C = 0.03804347826086957\n",
      "Num Non-Zero Features: 59\n",
      "Fitting Lasso with C = 0.019021739130434784\n",
      "Num Non-Zero Features: 49\n",
      "Fitting Lasso with C = 0.009510869565217392\n",
      "Num Non-Zero Features: 25\n",
      "New Step: 0.25\n",
      "Fitting Lasso with C = 0.014266304347826088\n",
      "Num Non-Zero Features: 34\n",
      "Fitting Lasso with C = 0.017832880434782608\n",
      "Num Non-Zero Features: 46\n",
      "New Step: 0.125\n",
      "Fitting Lasso with C = 0.013374660326086956\n",
      "Num Non-Zero Features: 31\n",
      "New Step: 0.0625\n",
      "Fitting Lasso with C = 0.015046492866847826\n",
      "Num Non-Zero Features: 38\n",
      "New Step: 0.03125\n",
      "Fitting Lasso with C = 0.014106087062669836\n",
      "Num Non-Zero Features: 32\n",
      "New Step: 0.015625\n",
      "Fitting Lasso with C = 0.01454690228337827\n",
      "Num Non-Zero Features: 35\n"
     ]
    },
    {
     "name": "stderr",
     "output_type": "stream",
     "text": [
      "/home/ec2-user/rickTemp/forest_cover/feature_selector.py:146: FutureWarning: Sorting because non-concatenation axis is not aligned. A future version\n",
      "of pandas will change to not sort by default.\n",
      "\n",
      "To accept the future behavior, pass 'sort=False'.\n",
      "\n",
      "To retain the current behavior and silence the warning, pass 'sort=True'.\n",
      "\n",
      "  all_scores = pd.concat(all_scores, axis=1)\n"
     ]
    },
    {
     "data": {
      "text/plain": [
       "nb_prob_6                            5.57\n",
       "nb_prob_3                            5.19\n",
       "nb_prob_0                            4.75\n",
       "Elevation                            4.61\n",
       "nb_prob_4                            4.61\n",
       "nb_prob_2                            4.59\n",
       "nb_prob_1                            4.51\n",
       "nb_prob_5                            4.48\n",
       "svd1                                 3.98\n",
       "pca0                                 3.96\n",
       "Horizontal_Distance_To_Roadways      3.48\n",
       "pca1                                 3.32\n",
       "svd2                                 3.26\n",
       "Horizontal_Distance_To_Fire_Points   3.25\n",
       "Hillshade_Noon                       3.22\n",
       "svd0                                 3.18\n",
       "Hillshade_9am                        3.06\n",
       "pca8                                 3.04\n",
       "svd5                                 3.04\n",
       "pca4                                 3.03\n",
       "Hillshade_3pm                        3.00\n",
       "Horizontal_Distance_To_Hydrology     3.00\n",
       "Vertical_Distance_To_Hydrology       3.00\n",
       "pca9                                 3.00\n",
       "K3                                   2.46\n",
       "PCA_K4                               2.34\n",
       "Wilderness_Area4                     2.30\n",
       "K4                                   2.07\n",
       "pca5                                 2.07\n",
       "svd3                                 2.05\n",
       "svd6                                 2.04\n",
       "Aspect                               2.00\n",
       "pca2                                 2.00\n",
       "pca3                                 2.00\n",
       "pca6                                 2.00\n",
       "dtype: float64"
      ]
     },
     "execution_count": 26,
     "metadata": {},
     "output_type": "execute_result"
    }
   ],
   "source": [
    "usecols = run_ftr_selection(all_train_df, ytrain, N, rf_params, gb_params)\n",
    "usecols"
   ]
  },
  {
   "cell_type": "code",
   "execution_count": 27,
   "metadata": {},
   "outputs": [
    {
     "data": {
      "text/plain": [
       "(15120, 35)"
      ]
     },
     "execution_count": 27,
     "metadata": {},
     "output_type": "execute_result"
    }
   ],
   "source": [
    "x_subset = all_train_df[usecols.index]\n",
    "x_subset.to_csv('clean_data/x_subset.csv', index=False)\n",
    "x_subset.shape"
   ]
  },
  {
   "cell_type": "markdown",
   "metadata": {},
   "source": [
    "### Polynomial Features"
   ]
  },
  {
   "cell_type": "code",
   "execution_count": 67,
   "metadata": {},
   "outputs": [
    {
     "name": "stdout",
     "output_type": "stream",
     "text": [
      "(15120, 8435)\n"
     ]
    }
   ],
   "source": [
    "poly = PolynomialFeatures(3,include_bias=False)\n",
    "train_poly = pd.DataFrame(poly.fit_transform(x_subset))\n",
    "train_poly.columns = poly.get_feature_names()\n",
    "\n",
    "print(train_poly.shape)\n",
    "train_poly.to_csv('clean_data/train_poly_all.csv',index=False)"
   ]
  },
  {
   "cell_type": "code",
   "execution_count": 29,
   "metadata": {},
   "outputs": [
    {
     "data": {
      "text/plain": [
       "(15120, 8435)"
      ]
     },
     "execution_count": 29,
     "metadata": {},
     "output_type": "execute_result"
    }
   ],
   "source": [
    "train_poly = pd.read_csv('clean_data/train_poly_all.csv')\n",
    "train_poly.shape"
   ]
  },
  {
   "cell_type": "markdown",
   "metadata": {},
   "source": [
    "The naming in polynomial features isn't helpful so gonna map them back"
   ]
  },
  {
   "cell_type": "code",
   "execution_count": 75,
   "metadata": {},
   "outputs": [],
   "source": [
    "mapper = {}\n",
    "for x in x_subset:\n",
    "    for p in train_poly:\n",
    "        if (train_poly[p] == x_subset[x]).all():\n",
    "            mapper[p] = x\n",
    "            break"
   ]
  },
  {
   "cell_type": "code",
   "execution_count": 93,
   "metadata": {},
   "outputs": [
    {
     "data": {
      "text/plain": [
       "True"
      ]
     },
     "execution_count": 93,
     "metadata": {},
     "output_type": "execute_result"
    }
   ],
   "source": [
    "# all columns found?\n",
    "x_subset.columns.isin(mapper.values()).all()"
   ]
  },
  {
   "cell_type": "code",
   "execution_count": 78,
   "metadata": {},
   "outputs": [
    {
     "data": {
      "text/plain": [
       "OrderedDict([('x10', 'Horizontal_Distance_To_Roadways'),\n",
       "             ('x11', 'pca1'),\n",
       "             ('x12', 'svd2'),\n",
       "             ('x13', 'Horizontal_Distance_To_Fire_Points'),\n",
       "             ('x14', 'Hillshade_Noon'),\n",
       "             ('x15', 'svd0'),\n",
       "             ('x16', 'Hillshade_9am'),\n",
       "             ('x17', 'pca8'),\n",
       "             ('x18', 'svd5'),\n",
       "             ('x19', 'pca4'),\n",
       "             ('x20', 'Hillshade_3pm'),\n",
       "             ('x21', 'Horizontal_Distance_To_Hydrology'),\n",
       "             ('x22', 'Vertical_Distance_To_Hydrology'),\n",
       "             ('x23', 'pca9'),\n",
       "             ('x24', 'K3'),\n",
       "             ('x25', 'PCA_K4'),\n",
       "             ('x26', 'Wilderness_Area4'),\n",
       "             ('x27', 'K4'),\n",
       "             ('x28', 'pca5'),\n",
       "             ('x29', 'svd3'),\n",
       "             ('x30', 'svd6'),\n",
       "             ('x31', 'Aspect'),\n",
       "             ('x32', 'pca2'),\n",
       "             ('x33', 'pca3'),\n",
       "             ('x34', 'pca6'),\n",
       "             ('x0', 'nb_prob_6'),\n",
       "             ('x1', 'nb_prob_3'),\n",
       "             ('x2', 'nb_prob_0'),\n",
       "             ('x3', 'Elevation'),\n",
       "             ('x4', 'nb_prob_4'),\n",
       "             ('x5', 'nb_prob_2'),\n",
       "             ('x6', 'nb_prob_1'),\n",
       "             ('x7', 'nb_prob_5'),\n",
       "             ('x8', 'svd1'),\n",
       "             ('x9', 'pca0')])"
      ]
     },
     "execution_count": 78,
     "metadata": {},
     "output_type": "execute_result"
    }
   ],
   "source": [
    "from collections import OrderedDict\n",
    "\n",
    "# sort so replace takes the largest val first\n",
    "mapper = OrderedDict(sorted(mapper.items(), key = lambda tup: len(tup[0]), reverse=True))\n",
    "mapper"
   ]
  },
  {
   "cell_type": "code",
   "execution_count": 84,
   "metadata": {},
   "outputs": [],
   "source": [
    "def rename_poly_cols(col):\n",
    "    for s in rename_dict:\n",
    "        col = col.replace(s, mapper[s])\n",
    "    return col\n",
    "\n",
    "train_poly.columns = train_poly.columns.map(rename_poly_cols)\n"
   ]
  },
  {
   "cell_type": "code",
   "execution_count": 86,
   "metadata": {},
   "outputs": [
    {
     "data": {
      "text/plain": [
       "nb_prob_6                             True\n",
       "nb_prob_3                             True\n",
       "nb_prob_0                             True\n",
       "Elevation                             True\n",
       "nb_prob_4                             True\n",
       "nb_prob_2                             True\n",
       "nb_prob_1                             True\n",
       "nb_prob_5                             True\n",
       "svd1                                  True\n",
       "pca0                                  True\n",
       "Horizontal_Distance_To_Roadways       True\n",
       "pca1                                  True\n",
       "svd2                                  True\n",
       "Horizontal_Distance_To_Fire_Points    True\n",
       "Hillshade_Noon                        True\n",
       "svd0                                  True\n",
       "Hillshade_9am                         True\n",
       "pca8                                  True\n",
       "svd5                                  True\n",
       "pca4                                  True\n",
       "Hillshade_3pm                         True\n",
       "Horizontal_Distance_To_Hydrology      True\n",
       "Vertical_Distance_To_Hydrology        True\n",
       "pca9                                  True\n",
       "K3                                    True\n",
       "PCA_K4                                True\n",
       "Wilderness_Area4                      True\n",
       "K4                                    True\n",
       "pca5                                  True\n",
       "svd3                                  True\n",
       "svd6                                  True\n",
       "Aspect                                True\n",
       "pca2                                  True\n",
       "pca3                                  True\n",
       "pca6                                  True\n",
       "dtype: bool"
      ]
     },
     "execution_count": 86,
     "metadata": {},
     "output_type": "execute_result"
    }
   ],
   "source": [
    "(train_poly[x_subset.columns] == x_subset).all()"
   ]
  },
  {
   "cell_type": "code",
   "execution_count": 8,
   "metadata": {
    "collapsed": true
   },
   "outputs": [],
   "source": [
    "N_final = train.shape[1]\n",
    "N_final = 200"
   ]
  },
  {
   "cell_type": "code",
   "execution_count": 16,
   "metadata": {
    "scrolled": true
   },
   "outputs": [
    {
     "name": "stdout",
     "output_type": "stream",
     "text": [
      "Fitting LogReg\n",
      "Fitting estimator with 8435 features.\n",
      "Fitting estimator with 7592 features.\n",
      "Fitting estimator with 6749 features.\n",
      "Fitting estimator with 5906 features.\n",
      "Fitting estimator with 5063 features.\n",
      "Fitting estimator with 4220 features.\n",
      "Fitting estimator with 3377 features.\n",
      "Fitting estimator with 2534 features.\n",
      "Fitting estimator with 1691 features.\n",
      "Fitting estimator with 848 features.\n",
      "\n",
      "Fitting RF\n",
      "Fitting estimator with 8435 features.\n",
      "Fitting estimator with 7592 features.\n",
      "Fitting estimator with 6749 features.\n",
      "Fitting estimator with 5906 features.\n",
      "Fitting estimator with 5063 features.\n",
      "Fitting estimator with 4220 features.\n",
      "Fitting estimator with 3377 features.\n",
      "Fitting estimator with 2534 features.\n",
      "Fitting estimator with 1691 features.\n",
      "Fitting estimator with 848 features.\n",
      "\n",
      "Fitting Lasso with C = 0.023710729104919975\n",
      "Num Non-Zero Features: 339\n",
      "Fitting Lasso with C = 0.011855364552459988\n",
      "Num Non-Zero Features: 172\n",
      "New Step: 0.25\n",
      "Fitting Lasso with C = 0.01778304682868998\n",
      "Num Non-Zero Features: 256\n",
      "New Step: 0.125\n",
      "Fitting Lasso with C = 0.013337285121517486\n",
      "Num Non-Zero Features: 203\n",
      "Fitting Lasso with C = 0.011670124481327801\n",
      "Num Non-Zero Features: 195\n",
      "New Step: 0.0625\n",
      "Fitting Lasso with C = 0.013128890041493776\n",
      "Num Non-Zero Features: 205\n",
      "New Step: 0.03125\n",
      "Fitting Lasso with C = 0.012308334413900415\n",
      "Num Non-Zero Features: 194\n",
      "New Step: 0.015625\n",
      "Fitting Lasso with C = 0.012692969864334802\n",
      "Num Non-Zero Features: 207\n",
      "New Step: 0.0078125\n",
      "Fitting Lasso with C = 0.012494642210204571\n",
      "Num Non-Zero Features: 195\n",
      "New Step: 0.00390625\n",
      "Fitting Lasso with C = 0.012592256602471794\n",
      "Num Non-Zero Features: 189\n",
      "Fitting Lasso with C = 0.0126414451048252\n",
      "Num Non-Zero Features: 192\n",
      "Fitting Lasso with C = 0.012690825749765924\n",
      "Num Non-Zero Features: 214\n",
      "New Step: 0.001953125\n",
      "Fitting Lasso with C = 0.0126412522116809\n",
      "Num Non-Zero Features: 218\n",
      "Fitting Lasso with C = 0.01261656226595496\n",
      "Num Non-Zero Features: 212\n",
      "Fitting Lasso with C = 0.012591920542779267\n",
      "Num Non-Zero Features: 190\n",
      "New Step: 0.0009765625\n",
      "Fitting Lasso with C = 0.012616514137589383\n",
      "Num Non-Zero Features: 197\n",
      "Fitting Lasso with C = 0.012628834952176872\n",
      "Num Non-Zero Features: 198\n",
      "Fitting Lasso with C = 0.012641167798809857\n",
      "Num Non-Zero Features: 185\n",
      "Fitting Lasso with C = 0.012653512689238382\n",
      "Num Non-Zero Features: 212\n",
      "New Step: 0.00048828125\n",
      "Fitting Lasso with C = 0.012641155743252797\n",
      "Num Non-Zero Features: 217\n",
      "Fitting Lasso with C = 0.012634983303925037\n",
      "Num Non-Zero Features: 214\n",
      "Fitting Lasso with C = 0.012628813878483667\n",
      "Num Non-Zero Features: 203\n",
      "Fitting Lasso with C = 0.012622647465457064\n",
      "Num Non-Zero Features: 219\n",
      "Fitting Lasso with C = 0.012616484063374322\n",
      "Num Non-Zero Features: 217\n",
      "Fitting Lasso with C = 0.012610323670765252\n",
      "Num Non-Zero Features: 209\n",
      "Fitting Lasso with C = 0.012604166286160387\n",
      "Num Non-Zero Features: 220\n",
      "Fitting Lasso with C = 0.012598011908090973\n",
      "Num Non-Zero Features: 205\n",
      "Fitting Lasso with C = 0.012591860535088976\n",
      "Num Non-Zero Features: 216\n",
      "Fitting Lasso with C = 0.012585712165687078\n",
      "Num Non-Zero Features: 206\n",
      "Fitting Lasso with C = 0.012579566798418675\n",
      "Num Non-Zero Features: 191\n",
      "New Step: 0.000244140625\n",
      "Fitting Lasso with C = 0.012585709165019466\n",
      "Num Non-Zero Features: 200\n"
     ]
    },
    {
     "name": "stderr",
     "output_type": "stream",
     "text": [
      "/home/ec2-user/rickTemp/forest_cover/feature_selector.py:146: FutureWarning: Sorting because non-concatenation axis is not aligned. A future version\n",
      "of pandas will change to not sort by default.\n",
      "\n",
      "To accept the future behavior, pass 'sort=False'.\n",
      "\n",
      "To retain the current behavior and silence the warning, pass 'sort=True'.\n",
      "\n",
      "  all_scores = pd.concat(all_scores, axis=1)\n"
     ]
    }
   ],
   "source": [
    "new_use_cols = run_ftr_selection(train_poly, ytrain, N_final, rf_params, skip=['rfe_gb'])"
   ]
  },
  {
   "cell_type": "code",
   "execution_count": 105,
   "metadata": {
    "collapsed": true
   },
   "outputs": [],
   "source": [
    "train_poly_final = train_poly[new_use_cols.index]\n",
    "train_poly_final.to_csv('clean_data/train_poly_final.csv',index=False)"
   ]
  },
  {
   "cell_type": "code",
   "execution_count": 106,
   "metadata": {},
   "outputs": [
    {
     "data": {
      "text/html": [
       "<div>\n",
       "<style scoped>\n",
       "    .dataframe tbody tr th:only-of-type {\n",
       "        vertical-align: middle;\n",
       "    }\n",
       "\n",
       "    .dataframe tbody tr th {\n",
       "        vertical-align: top;\n",
       "    }\n",
       "\n",
       "    .dataframe thead th {\n",
       "        text-align: right;\n",
       "    }\n",
       "</style>\n",
       "<table border=\"1\" class=\"dataframe\">\n",
       "  <thead>\n",
       "    <tr style=\"text-align: right;\">\n",
       "      <th></th>\n",
       "      <th>nb_prob_6</th>\n",
       "      <th>nb_prob_4^2</th>\n",
       "      <th>nb_prob_4 svd0 pca9</th>\n",
       "      <th>nb_prob_4^2 svd0</th>\n",
       "      <th>nb_prob_4^3</th>\n",
       "      <th>nb_prob_4^2 pca9</th>\n",
       "      <th>nb_prob_3 svd0^2</th>\n",
       "      <th>nb_prob_4 Hillshade_Noon svd0</th>\n",
       "      <th>nb_prob_6 nb_prob_4^2</th>\n",
       "      <th>nb_prob_6 nb_prob_4 svd0</th>\n",
       "      <th>nb_prob_4</th>\n",
       "      <th>nb_prob_0 nb_prob_4 svd0</th>\n",
       "      <th>nb_prob_6 svd0 Horizontal_Distance_To_Hydrology</th>\n",
       "      <th>Horizontal_Distance_To_Roadways Horizontal_Distance_To_Fire_Points pca9</th>\n",
       "      <th>nb_prob_0 Horizontal_Distance_To_Roadways pca9</th>\n",
       "      <th>nb_prob_0 pca9^2</th>\n",
       "      <th>Elevation nb_prob_4 svd0</th>\n",
       "      <th>Elevation^2 svd0</th>\n",
       "      <th>Elevation^3</th>\n",
       "      <th>nb_prob_4 pca9^2</th>\n",
       "      <th>nb_prob_4 svd1 svd0</th>\n",
       "      <th>nb_prob_4^2 svd1</th>\n",
       "      <th>nb_prob_5^3</th>\n",
       "      <th>svd1 Horizontal_Distance_To_Roadways Horizontal_Distance_To_Fire_Points</th>\n",
       "      <th>pca0 Horizontal_Distance_To_Roadways Horizontal_Distance_To_Fire_Points</th>\n",
       "      <th>nb_prob_4 pca9</th>\n",
       "      <th>nb_prob_6^2</th>\n",
       "      <th>nb_prob_3</th>\n",
       "      <th>nb_prob_6 Hillshade_9am</th>\n",
       "      <th>svd2 K3^2</th>\n",
       "      <th>nb_prob_3 svd0 PCA_K4</th>\n",
       "      <th>K3^3</th>\n",
       "      <th>nb_prob_4 Hillshade_9am pca9</th>\n",
       "      <th>nb_prob_4^2 Hillshade_9am</th>\n",
       "      <th>nb_prob_4^2 Hillshade_Noon</th>\n",
       "      <th>nb_prob_4 svd0</th>\n",
       "      <th>nb_prob_4 Hillshade_Noon pca9</th>\n",
       "      <th>nb_prob_3^2 PCA_K4</th>\n",
       "      <th>PCA_K4^3</th>\n",
       "      <th>nb_prob_3 svd0 K3</th>\n",
       "      <th>...</th>\n",
       "      <th>Horizontal_Distance_To_Roadways svd0 Hillshade_9am</th>\n",
       "      <th>Horizontal_Distance_To_Roadways svd0 Wilderness_Area4</th>\n",
       "      <th>Horizontal_Distance_To_Roadways svd0 K4</th>\n",
       "      <th>Horizontal_Distance_To_Roadways svd0 svd3</th>\n",
       "      <th>Horizontal_Distance_To_Roadways svd5 Wilderness_Area4</th>\n",
       "      <th>Horizontal_Distance_To_Roadways Hillshade_3pm K3</th>\n",
       "      <th>Horizontal_Distance_To_Roadways Hillshade_3pm Wilderness_Area4</th>\n",
       "      <th>Horizontal_Distance_To_Roadways K3 svd6</th>\n",
       "      <th>Horizontal_Distance_To_Roadways K3 pca6</th>\n",
       "      <th>Horizontal_Distance_To_Roadways Wilderness_Area4 svd6</th>\n",
       "      <th>Horizontal_Distance_To_Roadways Wilderness_Area4 Aspect</th>\n",
       "      <th>Horizontal_Distance_To_Roadways Wilderness_Area4 pca3</th>\n",
       "      <th>Horizontal_Distance_To_Roadways Wilderness_Area4 pca6</th>\n",
       "      <th>Horizontal_Distance_To_Roadways^2 pca1</th>\n",
       "      <th>Horizontal_Distance_To_Roadways^2 svd2</th>\n",
       "      <th>Horizontal_Distance_To_Roadways^2 svd0</th>\n",
       "      <th>Horizontal_Distance_To_Roadways^2 K3</th>\n",
       "      <th>Horizontal_Distance_To_Roadways^2 Wilderness_Area4</th>\n",
       "      <th>pca1 Horizontal_Distance_To_Fire_Points Horizontal_Distance_To_Hydrology</th>\n",
       "      <th>pca1 Horizontal_Distance_To_Fire_Points^2</th>\n",
       "      <th>pca1 svd0 pca9</th>\n",
       "      <th>pca1 svd0 K4</th>\n",
       "      <th>pca1^3</th>\n",
       "      <th>svd2 Horizontal_Distance_To_Fire_Points^2</th>\n",
       "      <th>svd2 svd0 pca9</th>\n",
       "      <th>svd2 svd0 K4</th>\n",
       "      <th>svd2 Hillshade_3pm Vertical_Distance_To_Hydrology</th>\n",
       "      <th>svd2^2 Horizontal_Distance_To_Fire_Points</th>\n",
       "      <th>svd2^3</th>\n",
       "      <th>Horizontal_Distance_To_Fire_Points svd0 svd5</th>\n",
       "      <th>Horizontal_Distance_To_Fire_Points svd0 pca5</th>\n",
       "      <th>Horizontal_Distance_To_Fire_Points svd0 svd6</th>\n",
       "      <th>Horizontal_Distance_To_Fire_Points svd0 pca6</th>\n",
       "      <th>Horizontal_Distance_To_Fire_Points Hillshade_9am K3</th>\n",
       "      <th>Horizontal_Distance_To_Fire_Points Hillshade_3pm pca9</th>\n",
       "      <th>Horizontal_Distance_To_Fire_Points Vertical_Distance_To_Hydrology K3</th>\n",
       "      <th>Horizontal_Distance_To_Fire_Points Vertical_Distance_To_Hydrology Wilderness_Area4</th>\n",
       "      <th>Horizontal_Distance_To_Fire_Points Vertical_Distance_To_Hydrology^2</th>\n",
       "      <th>Horizontal_Distance_To_Fire_Points pca9 K3</th>\n",
       "      <th>Horizontal_Distance_To_Fire_Points K3</th>\n",
       "    </tr>\n",
       "  </thead>\n",
       "  <tbody>\n",
       "    <tr>\n",
       "      <th>0</th>\n",
       "      <td>0.01</td>\n",
       "      <td>0.00</td>\n",
       "      <td>-0.00</td>\n",
       "      <td>0.01</td>\n",
       "      <td>0.00</td>\n",
       "      <td>-0.00</td>\n",
       "      <td>0.00</td>\n",
       "      <td>0.08</td>\n",
       "      <td>0.00</td>\n",
       "      <td>0.00</td>\n",
       "      <td>0.06</td>\n",
       "      <td>0.02</td>\n",
       "      <td>0.00</td>\n",
       "      <td>-0.00</td>\n",
       "      <td>-0.00</td>\n",
       "      <td>0.00</td>\n",
       "      <td>0.03</td>\n",
       "      <td>0.21</td>\n",
       "      <td>0.05</td>\n",
       "      <td>0.00</td>\n",
       "      <td>-0.01</td>\n",
       "      <td>-0.00</td>\n",
       "      <td>0.00</td>\n",
       "      <td>-0.01</td>\n",
       "      <td>-0.01</td>\n",
       "      <td>-0.00</td>\n",
       "      <td>0.00</td>\n",
       "      <td>0.00</td>\n",
       "      <td>0.01</td>\n",
       "      <td>4.80</td>\n",
       "      <td>0.00</td>\n",
       "      <td>8.00</td>\n",
       "      <td>-0.00</td>\n",
       "      <td>0.00</td>\n",
       "      <td>0.00</td>\n",
       "      <td>0.09</td>\n",
       "      <td>-0.00</td>\n",
       "      <td>0.00</td>\n",
       "      <td>0.00</td>\n",
       "      <td>0.00</td>\n",
       "      <td>...</td>\n",
       "      <td>0.10</td>\n",
       "      <td>0.00</td>\n",
       "      <td>0.12</td>\n",
       "      <td>0.00</td>\n",
       "      <td>-0.00</td>\n",
       "      <td>0.09</td>\n",
       "      <td>0.00</td>\n",
       "      <td>-0.05</td>\n",
       "      <td>-0.02</td>\n",
       "      <td>-0.00</td>\n",
       "      <td>0.00</td>\n",
       "      <td>0.00</td>\n",
       "      <td>-0.00</td>\n",
       "      <td>0.01</td>\n",
       "      <td>0.01</td>\n",
       "      <td>0.01</td>\n",
       "      <td>0.01</td>\n",
       "      <td>0.00</td>\n",
       "      <td>0.21</td>\n",
       "      <td>0.97</td>\n",
       "      <td>-0.05</td>\n",
       "      <td>1.88</td>\n",
       "      <td>1.71</td>\n",
       "      <td>0.97</td>\n",
       "      <td>-0.05</td>\n",
       "      <td>1.89</td>\n",
       "      <td>0.15</td>\n",
       "      <td>1.29</td>\n",
       "      <td>1.73</td>\n",
       "      <td>-0.81</td>\n",
       "      <td>-0.43</td>\n",
       "      <td>-0.46</td>\n",
       "      <td>-0.22</td>\n",
       "      <td>1.56</td>\n",
       "      <td>-0.01</td>\n",
       "      <td>0.37</td>\n",
       "      <td>0.00</td>\n",
       "      <td>0.04</td>\n",
       "      <td>-0.05</td>\n",
       "      <td>1.80</td>\n",
       "    </tr>\n",
       "    <tr>\n",
       "      <th>1</th>\n",
       "      <td>0.01</td>\n",
       "      <td>0.00</td>\n",
       "      <td>-0.00</td>\n",
       "      <td>0.01</td>\n",
       "      <td>0.00</td>\n",
       "      <td>-0.00</td>\n",
       "      <td>0.00</td>\n",
       "      <td>0.08</td>\n",
       "      <td>0.00</td>\n",
       "      <td>0.00</td>\n",
       "      <td>0.06</td>\n",
       "      <td>0.02</td>\n",
       "      <td>0.00</td>\n",
       "      <td>-0.00</td>\n",
       "      <td>-0.00</td>\n",
       "      <td>0.00</td>\n",
       "      <td>0.03</td>\n",
       "      <td>0.21</td>\n",
       "      <td>0.05</td>\n",
       "      <td>0.00</td>\n",
       "      <td>-0.01</td>\n",
       "      <td>-0.00</td>\n",
       "      <td>0.00</td>\n",
       "      <td>-0.00</td>\n",
       "      <td>-0.00</td>\n",
       "      <td>-0.00</td>\n",
       "      <td>0.00</td>\n",
       "      <td>0.00</td>\n",
       "      <td>0.01</td>\n",
       "      <td>4.78</td>\n",
       "      <td>0.00</td>\n",
       "      <td>8.00</td>\n",
       "      <td>-0.00</td>\n",
       "      <td>0.00</td>\n",
       "      <td>0.00</td>\n",
       "      <td>0.09</td>\n",
       "      <td>-0.00</td>\n",
       "      <td>0.00</td>\n",
       "      <td>0.00</td>\n",
       "      <td>0.00</td>\n",
       "      <td>...</td>\n",
       "      <td>0.08</td>\n",
       "      <td>0.00</td>\n",
       "      <td>0.09</td>\n",
       "      <td>0.00</td>\n",
       "      <td>-0.00</td>\n",
       "      <td>0.07</td>\n",
       "      <td>0.00</td>\n",
       "      <td>-0.04</td>\n",
       "      <td>-0.02</td>\n",
       "      <td>-0.00</td>\n",
       "      <td>0.00</td>\n",
       "      <td>0.00</td>\n",
       "      <td>-0.00</td>\n",
       "      <td>0.00</td>\n",
       "      <td>0.00</td>\n",
       "      <td>0.01</td>\n",
       "      <td>0.01</td>\n",
       "      <td>0.00</td>\n",
       "      <td>0.17</td>\n",
       "      <td>0.94</td>\n",
       "      <td>-0.04</td>\n",
       "      <td>1.88</td>\n",
       "      <td>1.70</td>\n",
       "      <td>0.95</td>\n",
       "      <td>-0.04</td>\n",
       "      <td>1.88</td>\n",
       "      <td>0.15</td>\n",
       "      <td>1.27</td>\n",
       "      <td>1.71</td>\n",
       "      <td>-0.82</td>\n",
       "      <td>-0.41</td>\n",
       "      <td>-0.45</td>\n",
       "      <td>-0.24</td>\n",
       "      <td>1.54</td>\n",
       "      <td>-0.01</td>\n",
       "      <td>0.36</td>\n",
       "      <td>0.00</td>\n",
       "      <td>0.04</td>\n",
       "      <td>-0.04</td>\n",
       "      <td>1.78</td>\n",
       "    </tr>\n",
       "    <tr>\n",
       "      <th>2</th>\n",
       "      <td>0.00</td>\n",
       "      <td>0.00</td>\n",
       "      <td>0.00</td>\n",
       "      <td>0.00</td>\n",
       "      <td>0.00</td>\n",
       "      <td>0.00</td>\n",
       "      <td>0.00</td>\n",
       "      <td>0.00</td>\n",
       "      <td>0.00</td>\n",
       "      <td>0.00</td>\n",
       "      <td>0.00</td>\n",
       "      <td>0.00</td>\n",
       "      <td>0.00</td>\n",
       "      <td>0.05</td>\n",
       "      <td>0.00</td>\n",
       "      <td>0.00</td>\n",
       "      <td>0.00</td>\n",
       "      <td>0.39</td>\n",
       "      <td>0.11</td>\n",
       "      <td>0.00</td>\n",
       "      <td>-0.00</td>\n",
       "      <td>-0.00</td>\n",
       "      <td>0.00</td>\n",
       "      <td>-0.04</td>\n",
       "      <td>-0.05</td>\n",
       "      <td>0.00</td>\n",
       "      <td>0.00</td>\n",
       "      <td>0.00</td>\n",
       "      <td>0.00</td>\n",
       "      <td>3.96</td>\n",
       "      <td>0.00</td>\n",
       "      <td>8.00</td>\n",
       "      <td>0.00</td>\n",
       "      <td>0.00</td>\n",
       "      <td>0.00</td>\n",
       "      <td>0.00</td>\n",
       "      <td>0.00</td>\n",
       "      <td>0.00</td>\n",
       "      <td>0.00</td>\n",
       "      <td>0.00</td>\n",
       "      <td>...</td>\n",
       "      <td>0.74</td>\n",
       "      <td>0.00</td>\n",
       "      <td>0.81</td>\n",
       "      <td>0.03</td>\n",
       "      <td>0.00</td>\n",
       "      <td>0.50</td>\n",
       "      <td>0.00</td>\n",
       "      <td>0.05</td>\n",
       "      <td>-0.09</td>\n",
       "      <td>0.00</td>\n",
       "      <td>0.00</td>\n",
       "      <td>-0.00</td>\n",
       "      <td>-0.00</td>\n",
       "      <td>0.21</td>\n",
       "      <td>0.21</td>\n",
       "      <td>0.37</td>\n",
       "      <td>0.43</td>\n",
       "      <td>0.00</td>\n",
       "      <td>0.17</td>\n",
       "      <td>0.75</td>\n",
       "      <td>0.20</td>\n",
       "      <td>1.71</td>\n",
       "      <td>0.94</td>\n",
       "      <td>0.76</td>\n",
       "      <td>0.21</td>\n",
       "      <td>1.73</td>\n",
       "      <td>0.16</td>\n",
       "      <td>0.86</td>\n",
       "      <td>0.97</td>\n",
       "      <td>0.22</td>\n",
       "      <td>0.08</td>\n",
       "      <td>0.09</td>\n",
       "      <td>-0.15</td>\n",
       "      <td>1.61</td>\n",
       "      <td>0.06</td>\n",
       "      <td>0.53</td>\n",
       "      <td>0.00</td>\n",
       "      <td>0.08</td>\n",
       "      <td>0.21</td>\n",
       "      <td>1.75</td>\n",
       "    </tr>\n",
       "    <tr>\n",
       "      <th>3</th>\n",
       "      <td>0.00</td>\n",
       "      <td>0.09</td>\n",
       "      <td>0.07</td>\n",
       "      <td>0.16</td>\n",
       "      <td>0.03</td>\n",
       "      <td>0.01</td>\n",
       "      <td>0.00</td>\n",
       "      <td>0.48</td>\n",
       "      <td>0.00</td>\n",
       "      <td>0.00</td>\n",
       "      <td>0.30</td>\n",
       "      <td>0.04</td>\n",
       "      <td>0.00</td>\n",
       "      <td>0.05</td>\n",
       "      <td>0.00</td>\n",
       "      <td>0.00</td>\n",
       "      <td>0.25</td>\n",
       "      <td>0.39</td>\n",
       "      <td>0.10</td>\n",
       "      <td>0.01</td>\n",
       "      <td>-0.04</td>\n",
       "      <td>-0.01</td>\n",
       "      <td>0.00</td>\n",
       "      <td>-0.03</td>\n",
       "      <td>-0.04</td>\n",
       "      <td>0.04</td>\n",
       "      <td>0.00</td>\n",
       "      <td>0.00</td>\n",
       "      <td>0.00</td>\n",
       "      <td>4.31</td>\n",
       "      <td>0.00</td>\n",
       "      <td>8.00</td>\n",
       "      <td>0.04</td>\n",
       "      <td>0.08</td>\n",
       "      <td>0.08</td>\n",
       "      <td>0.53</td>\n",
       "      <td>0.03</td>\n",
       "      <td>0.00</td>\n",
       "      <td>0.00</td>\n",
       "      <td>0.00</td>\n",
       "      <td>...</td>\n",
       "      <td>0.76</td>\n",
       "      <td>0.00</td>\n",
       "      <td>0.81</td>\n",
       "      <td>-0.01</td>\n",
       "      <td>0.00</td>\n",
       "      <td>0.44</td>\n",
       "      <td>0.00</td>\n",
       "      <td>0.54</td>\n",
       "      <td>0.09</td>\n",
       "      <td>0.00</td>\n",
       "      <td>0.00</td>\n",
       "      <td>0.00</td>\n",
       "      <td>0.00</td>\n",
       "      <td>0.21</td>\n",
       "      <td>0.22</td>\n",
       "      <td>0.36</td>\n",
       "      <td>0.40</td>\n",
       "      <td>0.00</td>\n",
       "      <td>0.17</td>\n",
       "      <td>0.84</td>\n",
       "      <td>0.25</td>\n",
       "      <td>1.92</td>\n",
       "      <td>1.20</td>\n",
       "      <td>0.85</td>\n",
       "      <td>0.26</td>\n",
       "      <td>1.95</td>\n",
       "      <td>0.20</td>\n",
       "      <td>1.03</td>\n",
       "      <td>1.25</td>\n",
       "      <td>0.57</td>\n",
       "      <td>0.91</td>\n",
       "      <td>0.96</td>\n",
       "      <td>0.17</td>\n",
       "      <td>1.66</td>\n",
       "      <td>0.06</td>\n",
       "      <td>0.67</td>\n",
       "      <td>0.00</td>\n",
       "      <td>0.13</td>\n",
       "      <td>0.23</td>\n",
       "      <td>1.78</td>\n",
       "    </tr>\n",
       "    <tr>\n",
       "      <th>4</th>\n",
       "      <td>0.01</td>\n",
       "      <td>0.00</td>\n",
       "      <td>-0.00</td>\n",
       "      <td>0.01</td>\n",
       "      <td>0.00</td>\n",
       "      <td>-0.00</td>\n",
       "      <td>0.00</td>\n",
       "      <td>0.08</td>\n",
       "      <td>0.00</td>\n",
       "      <td>0.00</td>\n",
       "      <td>0.06</td>\n",
       "      <td>0.02</td>\n",
       "      <td>0.00</td>\n",
       "      <td>-0.00</td>\n",
       "      <td>-0.00</td>\n",
       "      <td>0.00</td>\n",
       "      <td>0.03</td>\n",
       "      <td>0.21</td>\n",
       "      <td>0.05</td>\n",
       "      <td>0.00</td>\n",
       "      <td>-0.01</td>\n",
       "      <td>-0.00</td>\n",
       "      <td>0.00</td>\n",
       "      <td>-0.00</td>\n",
       "      <td>-0.00</td>\n",
       "      <td>-0.00</td>\n",
       "      <td>0.00</td>\n",
       "      <td>0.00</td>\n",
       "      <td>0.01</td>\n",
       "      <td>4.79</td>\n",
       "      <td>0.00</td>\n",
       "      <td>8.00</td>\n",
       "      <td>-0.00</td>\n",
       "      <td>0.00</td>\n",
       "      <td>0.00</td>\n",
       "      <td>0.09</td>\n",
       "      <td>-0.00</td>\n",
       "      <td>0.00</td>\n",
       "      <td>0.00</td>\n",
       "      <td>0.00</td>\n",
       "      <td>...</td>\n",
       "      <td>0.08</td>\n",
       "      <td>0.00</td>\n",
       "      <td>0.09</td>\n",
       "      <td>0.00</td>\n",
       "      <td>-0.00</td>\n",
       "      <td>0.07</td>\n",
       "      <td>0.00</td>\n",
       "      <td>-0.04</td>\n",
       "      <td>-0.02</td>\n",
       "      <td>-0.00</td>\n",
       "      <td>0.00</td>\n",
       "      <td>0.00</td>\n",
       "      <td>-0.00</td>\n",
       "      <td>0.00</td>\n",
       "      <td>0.00</td>\n",
       "      <td>0.01</td>\n",
       "      <td>0.01</td>\n",
       "      <td>0.00</td>\n",
       "      <td>0.12</td>\n",
       "      <td>0.93</td>\n",
       "      <td>-0.04</td>\n",
       "      <td>1.86</td>\n",
       "      <td>1.71</td>\n",
       "      <td>0.93</td>\n",
       "      <td>-0.04</td>\n",
       "      <td>1.87</td>\n",
       "      <td>0.15</td>\n",
       "      <td>1.27</td>\n",
       "      <td>1.72</td>\n",
       "      <td>-0.80</td>\n",
       "      <td>-0.40</td>\n",
       "      <td>-0.44</td>\n",
       "      <td>-0.25</td>\n",
       "      <td>1.53</td>\n",
       "      <td>-0.01</td>\n",
       "      <td>0.37</td>\n",
       "      <td>0.00</td>\n",
       "      <td>0.04</td>\n",
       "      <td>-0.04</td>\n",
       "      <td>1.77</td>\n",
       "    </tr>\n",
       "  </tbody>\n",
       "</table>\n",
       "<p>5 rows × 200 columns</p>\n",
       "</div>"
      ],
      "text/plain": [
       "   nb_prob_6  nb_prob_4^2  nb_prob_4 svd0 pca9  nb_prob_4^2 svd0  nb_prob_4^3  \\\n",
       "0       0.01         0.00                -0.00              0.01         0.00   \n",
       "1       0.01         0.00                -0.00              0.01         0.00   \n",
       "2       0.00         0.00                 0.00              0.00         0.00   \n",
       "3       0.00         0.09                 0.07              0.16         0.03   \n",
       "4       0.01         0.00                -0.00              0.01         0.00   \n",
       "\n",
       "   nb_prob_4^2 pca9  nb_prob_3 svd0^2  nb_prob_4 Hillshade_Noon svd0  \\\n",
       "0             -0.00              0.00                           0.08   \n",
       "1             -0.00              0.00                           0.08   \n",
       "2              0.00              0.00                           0.00   \n",
       "3              0.01              0.00                           0.48   \n",
       "4             -0.00              0.00                           0.08   \n",
       "\n",
       "   nb_prob_6 nb_prob_4^2  nb_prob_6 nb_prob_4 svd0  nb_prob_4  \\\n",
       "0                   0.00                      0.00       0.06   \n",
       "1                   0.00                      0.00       0.06   \n",
       "2                   0.00                      0.00       0.00   \n",
       "3                   0.00                      0.00       0.30   \n",
       "4                   0.00                      0.00       0.06   \n",
       "\n",
       "   nb_prob_0 nb_prob_4 svd0  nb_prob_6 svd0 Horizontal_Distance_To_Hydrology  \\\n",
       "0                      0.02                                             0.00   \n",
       "1                      0.02                                             0.00   \n",
       "2                      0.00                                             0.00   \n",
       "3                      0.04                                             0.00   \n",
       "4                      0.02                                             0.00   \n",
       "\n",
       "   Horizontal_Distance_To_Roadways Horizontal_Distance_To_Fire_Points pca9  \\\n",
       "0                                              -0.00                         \n",
       "1                                              -0.00                         \n",
       "2                                               0.05                         \n",
       "3                                               0.05                         \n",
       "4                                              -0.00                         \n",
       "\n",
       "   nb_prob_0 Horizontal_Distance_To_Roadways pca9  nb_prob_0 pca9^2  \\\n",
       "0                                           -0.00              0.00   \n",
       "1                                           -0.00              0.00   \n",
       "2                                            0.00              0.00   \n",
       "3                                            0.00              0.00   \n",
       "4                                           -0.00              0.00   \n",
       "\n",
       "   Elevation nb_prob_4 svd0  Elevation^2 svd0  Elevation^3  nb_prob_4 pca9^2  \\\n",
       "0                      0.03              0.21         0.05              0.00   \n",
       "1                      0.03              0.21         0.05              0.00   \n",
       "2                      0.00              0.39         0.11              0.00   \n",
       "3                      0.25              0.39         0.10              0.01   \n",
       "4                      0.03              0.21         0.05              0.00   \n",
       "\n",
       "   nb_prob_4 svd1 svd0  nb_prob_4^2 svd1  nb_prob_5^3  \\\n",
       "0                -0.01             -0.00         0.00   \n",
       "1                -0.01             -0.00         0.00   \n",
       "2                -0.00             -0.00         0.00   \n",
       "3                -0.04             -0.01         0.00   \n",
       "4                -0.01             -0.00         0.00   \n",
       "\n",
       "   svd1 Horizontal_Distance_To_Roadways Horizontal_Distance_To_Fire_Points  \\\n",
       "0                                              -0.01                         \n",
       "1                                              -0.00                         \n",
       "2                                              -0.04                         \n",
       "3                                              -0.03                         \n",
       "4                                              -0.00                         \n",
       "\n",
       "   pca0 Horizontal_Distance_To_Roadways Horizontal_Distance_To_Fire_Points  \\\n",
       "0                                              -0.01                         \n",
       "1                                              -0.00                         \n",
       "2                                              -0.05                         \n",
       "3                                              -0.04                         \n",
       "4                                              -0.00                         \n",
       "\n",
       "   nb_prob_4 pca9  nb_prob_6^2  nb_prob_3  nb_prob_6 Hillshade_9am  svd2 K3^2  \\\n",
       "0           -0.00         0.00       0.00                     0.01       4.80   \n",
       "1           -0.00         0.00       0.00                     0.01       4.78   \n",
       "2            0.00         0.00       0.00                     0.00       3.96   \n",
       "3            0.04         0.00       0.00                     0.00       4.31   \n",
       "4           -0.00         0.00       0.00                     0.01       4.79   \n",
       "\n",
       "   nb_prob_3 svd0 PCA_K4  K3^3  nb_prob_4 Hillshade_9am pca9  \\\n",
       "0                   0.00  8.00                         -0.00   \n",
       "1                   0.00  8.00                         -0.00   \n",
       "2                   0.00  8.00                          0.00   \n",
       "3                   0.00  8.00                          0.04   \n",
       "4                   0.00  8.00                         -0.00   \n",
       "\n",
       "   nb_prob_4^2 Hillshade_9am  nb_prob_4^2 Hillshade_Noon  nb_prob_4 svd0  \\\n",
       "0                       0.00                        0.00            0.09   \n",
       "1                       0.00                        0.00            0.09   \n",
       "2                       0.00                        0.00            0.00   \n",
       "3                       0.08                        0.08            0.53   \n",
       "4                       0.00                        0.00            0.09   \n",
       "\n",
       "   nb_prob_4 Hillshade_Noon pca9  nb_prob_3^2 PCA_K4  PCA_K4^3  \\\n",
       "0                          -0.00                0.00      0.00   \n",
       "1                          -0.00                0.00      0.00   \n",
       "2                           0.00                0.00      0.00   \n",
       "3                           0.03                0.00      0.00   \n",
       "4                          -0.00                0.00      0.00   \n",
       "\n",
       "   nb_prob_3 svd0 K3                  ...                    \\\n",
       "0               0.00                  ...                     \n",
       "1               0.00                  ...                     \n",
       "2               0.00                  ...                     \n",
       "3               0.00                  ...                     \n",
       "4               0.00                  ...                     \n",
       "\n",
       "   Horizontal_Distance_To_Roadways svd0 Hillshade_9am  \\\n",
       "0                                               0.10    \n",
       "1                                               0.08    \n",
       "2                                               0.74    \n",
       "3                                               0.76    \n",
       "4                                               0.08    \n",
       "\n",
       "   Horizontal_Distance_To_Roadways svd0 Wilderness_Area4  \\\n",
       "0                                               0.00       \n",
       "1                                               0.00       \n",
       "2                                               0.00       \n",
       "3                                               0.00       \n",
       "4                                               0.00       \n",
       "\n",
       "   Horizontal_Distance_To_Roadways svd0 K4  \\\n",
       "0                                     0.12   \n",
       "1                                     0.09   \n",
       "2                                     0.81   \n",
       "3                                     0.81   \n",
       "4                                     0.09   \n",
       "\n",
       "   Horizontal_Distance_To_Roadways svd0 svd3  \\\n",
       "0                                       0.00   \n",
       "1                                       0.00   \n",
       "2                                       0.03   \n",
       "3                                      -0.01   \n",
       "4                                       0.00   \n",
       "\n",
       "   Horizontal_Distance_To_Roadways svd5 Wilderness_Area4  \\\n",
       "0                                              -0.00       \n",
       "1                                              -0.00       \n",
       "2                                               0.00       \n",
       "3                                               0.00       \n",
       "4                                              -0.00       \n",
       "\n",
       "   Horizontal_Distance_To_Roadways Hillshade_3pm K3  \\\n",
       "0                                              0.09   \n",
       "1                                              0.07   \n",
       "2                                              0.50   \n",
       "3                                              0.44   \n",
       "4                                              0.07   \n",
       "\n",
       "   Horizontal_Distance_To_Roadways Hillshade_3pm Wilderness_Area4  \\\n",
       "0                                               0.00                \n",
       "1                                               0.00                \n",
       "2                                               0.00                \n",
       "3                                               0.00                \n",
       "4                                               0.00                \n",
       "\n",
       "   Horizontal_Distance_To_Roadways K3 svd6  \\\n",
       "0                                    -0.05   \n",
       "1                                    -0.04   \n",
       "2                                     0.05   \n",
       "3                                     0.54   \n",
       "4                                    -0.04   \n",
       "\n",
       "   Horizontal_Distance_To_Roadways K3 pca6  \\\n",
       "0                                    -0.02   \n",
       "1                                    -0.02   \n",
       "2                                    -0.09   \n",
       "3                                     0.09   \n",
       "4                                    -0.02   \n",
       "\n",
       "   Horizontal_Distance_To_Roadways Wilderness_Area4 svd6  \\\n",
       "0                                              -0.00       \n",
       "1                                              -0.00       \n",
       "2                                               0.00       \n",
       "3                                               0.00       \n",
       "4                                              -0.00       \n",
       "\n",
       "   Horizontal_Distance_To_Roadways Wilderness_Area4 Aspect  \\\n",
       "0                                               0.00         \n",
       "1                                               0.00         \n",
       "2                                               0.00         \n",
       "3                                               0.00         \n",
       "4                                               0.00         \n",
       "\n",
       "   Horizontal_Distance_To_Roadways Wilderness_Area4 pca3  \\\n",
       "0                                               0.00       \n",
       "1                                               0.00       \n",
       "2                                              -0.00       \n",
       "3                                               0.00       \n",
       "4                                               0.00       \n",
       "\n",
       "   Horizontal_Distance_To_Roadways Wilderness_Area4 pca6  \\\n",
       "0                                              -0.00       \n",
       "1                                              -0.00       \n",
       "2                                              -0.00       \n",
       "3                                               0.00       \n",
       "4                                              -0.00       \n",
       "\n",
       "   Horizontal_Distance_To_Roadways^2 pca1  \\\n",
       "0                                    0.01   \n",
       "1                                    0.00   \n",
       "2                                    0.21   \n",
       "3                                    0.21   \n",
       "4                                    0.00   \n",
       "\n",
       "   Horizontal_Distance_To_Roadways^2 svd2  \\\n",
       "0                                    0.01   \n",
       "1                                    0.00   \n",
       "2                                    0.21   \n",
       "3                                    0.22   \n",
       "4                                    0.00   \n",
       "\n",
       "   Horizontal_Distance_To_Roadways^2 svd0  \\\n",
       "0                                    0.01   \n",
       "1                                    0.01   \n",
       "2                                    0.37   \n",
       "3                                    0.36   \n",
       "4                                    0.01   \n",
       "\n",
       "   Horizontal_Distance_To_Roadways^2 K3  \\\n",
       "0                                  0.01   \n",
       "1                                  0.01   \n",
       "2                                  0.43   \n",
       "3                                  0.40   \n",
       "4                                  0.01   \n",
       "\n",
       "   Horizontal_Distance_To_Roadways^2 Wilderness_Area4  \\\n",
       "0                                               0.00    \n",
       "1                                               0.00    \n",
       "2                                               0.00    \n",
       "3                                               0.00    \n",
       "4                                               0.00    \n",
       "\n",
       "   pca1 Horizontal_Distance_To_Fire_Points Horizontal_Distance_To_Hydrology  \\\n",
       "0                                               0.21                          \n",
       "1                                               0.17                          \n",
       "2                                               0.17                          \n",
       "3                                               0.17                          \n",
       "4                                               0.12                          \n",
       "\n",
       "   pca1 Horizontal_Distance_To_Fire_Points^2  pca1 svd0 pca9  pca1 svd0 K4  \\\n",
       "0                                       0.97           -0.05          1.88   \n",
       "1                                       0.94           -0.04          1.88   \n",
       "2                                       0.75            0.20          1.71   \n",
       "3                                       0.84            0.25          1.92   \n",
       "4                                       0.93           -0.04          1.86   \n",
       "\n",
       "   pca1^3  svd2 Horizontal_Distance_To_Fire_Points^2  svd2 svd0 pca9  \\\n",
       "0    1.71                                       0.97           -0.05   \n",
       "1    1.70                                       0.95           -0.04   \n",
       "2    0.94                                       0.76            0.21   \n",
       "3    1.20                                       0.85            0.26   \n",
       "4    1.71                                       0.93           -0.04   \n",
       "\n",
       "   svd2 svd0 K4  svd2 Hillshade_3pm Vertical_Distance_To_Hydrology  \\\n",
       "0          1.89                                               0.15   \n",
       "1          1.88                                               0.15   \n",
       "2          1.73                                               0.16   \n",
       "3          1.95                                               0.20   \n",
       "4          1.87                                               0.15   \n",
       "\n",
       "   svd2^2 Horizontal_Distance_To_Fire_Points  svd2^3  \\\n",
       "0                                       1.29    1.73   \n",
       "1                                       1.27    1.71   \n",
       "2                                       0.86    0.97   \n",
       "3                                       1.03    1.25   \n",
       "4                                       1.27    1.72   \n",
       "\n",
       "   Horizontal_Distance_To_Fire_Points svd0 svd5  \\\n",
       "0                                         -0.81   \n",
       "1                                         -0.82   \n",
       "2                                          0.22   \n",
       "3                                          0.57   \n",
       "4                                         -0.80   \n",
       "\n",
       "   Horizontal_Distance_To_Fire_Points svd0 pca5  \\\n",
       "0                                         -0.43   \n",
       "1                                         -0.41   \n",
       "2                                          0.08   \n",
       "3                                          0.91   \n",
       "4                                         -0.40   \n",
       "\n",
       "   Horizontal_Distance_To_Fire_Points svd0 svd6  \\\n",
       "0                                         -0.46   \n",
       "1                                         -0.45   \n",
       "2                                          0.09   \n",
       "3                                          0.96   \n",
       "4                                         -0.44   \n",
       "\n",
       "   Horizontal_Distance_To_Fire_Points svd0 pca6  \\\n",
       "0                                         -0.22   \n",
       "1                                         -0.24   \n",
       "2                                         -0.15   \n",
       "3                                          0.17   \n",
       "4                                         -0.25   \n",
       "\n",
       "   Horizontal_Distance_To_Fire_Points Hillshade_9am K3  \\\n",
       "0                                               1.56     \n",
       "1                                               1.54     \n",
       "2                                               1.61     \n",
       "3                                               1.66     \n",
       "4                                               1.53     \n",
       "\n",
       "   Horizontal_Distance_To_Fire_Points Hillshade_3pm pca9  \\\n",
       "0                                              -0.01       \n",
       "1                                              -0.01       \n",
       "2                                               0.06       \n",
       "3                                               0.06       \n",
       "4                                              -0.01       \n",
       "\n",
       "   Horizontal_Distance_To_Fire_Points Vertical_Distance_To_Hydrology K3  \\\n",
       "0                                               0.37                      \n",
       "1                                               0.36                      \n",
       "2                                               0.53                      \n",
       "3                                               0.67                      \n",
       "4                                               0.37                      \n",
       "\n",
       "   Horizontal_Distance_To_Fire_Points Vertical_Distance_To_Hydrology Wilderness_Area4  \\\n",
       "0                                               0.00                                    \n",
       "1                                               0.00                                    \n",
       "2                                               0.00                                    \n",
       "3                                               0.00                                    \n",
       "4                                               0.00                                    \n",
       "\n",
       "   Horizontal_Distance_To_Fire_Points Vertical_Distance_To_Hydrology^2  \\\n",
       "0                                               0.04                     \n",
       "1                                               0.04                     \n",
       "2                                               0.08                     \n",
       "3                                               0.13                     \n",
       "4                                               0.04                     \n",
       "\n",
       "   Horizontal_Distance_To_Fire_Points pca9 K3  \\\n",
       "0                                       -0.05   \n",
       "1                                       -0.04   \n",
       "2                                        0.21   \n",
       "3                                        0.23   \n",
       "4                                       -0.04   \n",
       "\n",
       "   Horizontal_Distance_To_Fire_Points K3  \n",
       "0                                   1.80  \n",
       "1                                   1.78  \n",
       "2                                   1.75  \n",
       "3                                   1.78  \n",
       "4                                   1.77  \n",
       "\n",
       "[5 rows x 200 columns]"
      ]
     },
     "execution_count": 106,
     "metadata": {},
     "output_type": "execute_result"
    }
   ],
   "source": [
    "train_poly_final.head()"
   ]
  },
  {
   "cell_type": "code",
   "execution_count": null,
   "metadata": {
    "collapsed": true
   },
   "outputs": [],
   "source": []
  },
  {
   "cell_type": "code",
   "execution_count": null,
   "metadata": {
    "collapsed": true
   },
   "outputs": [],
   "source": []
  },
  {
   "cell_type": "code",
   "execution_count": null,
   "metadata": {
    "collapsed": true
   },
   "outputs": [],
   "source": []
  },
  {
   "cell_type": "markdown",
   "metadata": {},
   "source": [
    "Base Test"
   ]
  },
  {
   "cell_type": "code",
   "execution_count": 19,
   "metadata": {
    "collapsed": true
   },
   "outputs": [],
   "source": [
    "l = LGBMClassifier()"
   ]
  },
  {
   "cell_type": "code",
   "execution_count": 20,
   "metadata": {},
   "outputs": [
    {
     "name": "stderr",
     "output_type": "stream",
     "text": [
      "/home/ec2-user/anaconda3/lib/python3.6/site-packages/sklearn/preprocessing/label.py:171: DeprecationWarning: The truth value of an empty array is ambiguous. Returning False, but in future this will result in an error. Use `array.size > 0` to check that an array is not empty.\n",
      "  if diff:\n",
      "/home/ec2-user/anaconda3/lib/python3.6/site-packages/sklearn/preprocessing/label.py:171: DeprecationWarning: The truth value of an empty array is ambiguous. Returning False, but in future this will result in an error. Use `array.size > 0` to check that an array is not empty.\n",
      "  if diff:\n",
      "/home/ec2-user/anaconda3/lib/python3.6/site-packages/sklearn/preprocessing/label.py:171: DeprecationWarning: The truth value of an empty array is ambiguous. Returning False, but in future this will result in an error. Use `array.size > 0` to check that an array is not empty.\n",
      "  if diff:\n",
      "/home/ec2-user/anaconda3/lib/python3.6/site-packages/sklearn/preprocessing/label.py:171: DeprecationWarning: The truth value of an empty array is ambiguous. Returning False, but in future this will result in an error. Use `array.size > 0` to check that an array is not empty.\n",
      "  if diff:\n",
      "/home/ec2-user/anaconda3/lib/python3.6/site-packages/sklearn/preprocessing/label.py:171: DeprecationWarning: The truth value of an empty array is ambiguous. Returning False, but in future this will result in an error. Use `array.size > 0` to check that an array is not empty.\n",
      "  if diff:\n",
      "/home/ec2-user/anaconda3/lib/python3.6/site-packages/sklearn/preprocessing/label.py:171: DeprecationWarning: The truth value of an empty array is ambiguous. Returning False, but in future this will result in an error. Use `array.size > 0` to check that an array is not empty.\n",
      "  if diff:\n",
      "/home/ec2-user/anaconda3/lib/python3.6/site-packages/sklearn/preprocessing/label.py:171: DeprecationWarning: The truth value of an empty array is ambiguous. Returning False, but in future this will result in an error. Use `array.size > 0` to check that an array is not empty.\n",
      "  if diff:\n",
      "/home/ec2-user/anaconda3/lib/python3.6/site-packages/sklearn/preprocessing/label.py:171: DeprecationWarning: The truth value of an empty array is ambiguous. Returning False, but in future this will result in an error. Use `array.size > 0` to check that an array is not empty.\n",
      "  if diff:\n",
      "/home/ec2-user/anaconda3/lib/python3.6/site-packages/sklearn/preprocessing/label.py:171: DeprecationWarning: The truth value of an empty array is ambiguous. Returning False, but in future this will result in an error. Use `array.size > 0` to check that an array is not empty.\n",
      "  if diff:\n",
      "/home/ec2-user/anaconda3/lib/python3.6/site-packages/sklearn/preprocessing/label.py:171: DeprecationWarning: The truth value of an empty array is ambiguous. Returning False, but in future this will result in an error. Use `array.size > 0` to check that an array is not empty.\n",
      "  if diff:\n",
      "/home/ec2-user/anaconda3/lib/python3.6/site-packages/sklearn/preprocessing/label.py:171: DeprecationWarning: The truth value of an empty array is ambiguous. Returning False, but in future this will result in an error. Use `array.size > 0` to check that an array is not empty.\n",
      "  if diff:\n",
      "/home/ec2-user/anaconda3/lib/python3.6/site-packages/sklearn/preprocessing/label.py:171: DeprecationWarning: The truth value of an empty array is ambiguous. Returning False, but in future this will result in an error. Use `array.size > 0` to check that an array is not empty.\n",
      "  if diff:\n",
      "/home/ec2-user/anaconda3/lib/python3.6/site-packages/sklearn/preprocessing/label.py:171: DeprecationWarning: The truth value of an empty array is ambiguous. Returning False, but in future this will result in an error. Use `array.size > 0` to check that an array is not empty.\n",
      "  if diff:\n",
      "/home/ec2-user/anaconda3/lib/python3.6/site-packages/sklearn/preprocessing/label.py:171: DeprecationWarning: The truth value of an empty array is ambiguous. Returning False, but in future this will result in an error. Use `array.size > 0` to check that an array is not empty.\n",
      "  if diff:\n",
      "/home/ec2-user/anaconda3/lib/python3.6/site-packages/sklearn/preprocessing/label.py:171: DeprecationWarning: The truth value of an empty array is ambiguous. Returning False, but in future this will result in an error. Use `array.size > 0` to check that an array is not empty.\n",
      "  if diff:\n",
      "/home/ec2-user/anaconda3/lib/python3.6/site-packages/sklearn/preprocessing/label.py:171: DeprecationWarning: The truth value of an empty array is ambiguous. Returning False, but in future this will result in an error. Use `array.size > 0` to check that an array is not empty.\n",
      "  if diff:\n",
      "/home/ec2-user/anaconda3/lib/python3.6/site-packages/sklearn/preprocessing/label.py:171: DeprecationWarning: The truth value of an empty array is ambiguous. Returning False, but in future this will result in an error. Use `array.size > 0` to check that an array is not empty.\n",
      "  if diff:\n",
      "/home/ec2-user/anaconda3/lib/python3.6/site-packages/sklearn/preprocessing/label.py:171: DeprecationWarning: The truth value of an empty array is ambiguous. Returning False, but in future this will result in an error. Use `array.size > 0` to check that an array is not empty.\n",
      "  if diff:\n",
      "/home/ec2-user/anaconda3/lib/python3.6/site-packages/sklearn/preprocessing/label.py:171: DeprecationWarning: The truth value of an empty array is ambiguous. Returning False, but in future this will result in an error. Use `array.size > 0` to check that an array is not empty.\n",
      "  if diff:\n",
      "/home/ec2-user/anaconda3/lib/python3.6/site-packages/sklearn/preprocessing/label.py:171: DeprecationWarning: The truth value of an empty array is ambiguous. Returning False, but in future this will result in an error. Use `array.size > 0` to check that an array is not empty.\n",
      "  if diff:\n",
      "/home/ec2-user/anaconda3/lib/python3.6/site-packages/sklearn/preprocessing/label.py:171: DeprecationWarning: The truth value of an empty array is ambiguous. Returning False, but in future this will result in an error. Use `array.size > 0` to check that an array is not empty.\n",
      "  if diff:\n",
      "/home/ec2-user/anaconda3/lib/python3.6/site-packages/sklearn/preprocessing/label.py:171: DeprecationWarning: The truth value of an empty array is ambiguous. Returning False, but in future this will result in an error. Use `array.size > 0` to check that an array is not empty.\n",
      "  if diff:\n",
      "/home/ec2-user/anaconda3/lib/python3.6/site-packages/sklearn/preprocessing/label.py:171: DeprecationWarning: The truth value of an empty array is ambiguous. Returning False, but in future this will result in an error. Use `array.size > 0` to check that an array is not empty.\n",
      "  if diff:\n",
      "/home/ec2-user/anaconda3/lib/python3.6/site-packages/sklearn/preprocessing/label.py:171: DeprecationWarning: The truth value of an empty array is ambiguous. Returning False, but in future this will result in an error. Use `array.size > 0` to check that an array is not empty.\n",
      "  if diff:\n",
      "/home/ec2-user/anaconda3/lib/python3.6/site-packages/sklearn/preprocessing/label.py:171: DeprecationWarning: The truth value of an empty array is ambiguous. Returning False, but in future this will result in an error. Use `array.size > 0` to check that an array is not empty.\n",
      "  if diff:\n",
      "/home/ec2-user/anaconda3/lib/python3.6/site-packages/sklearn/preprocessing/label.py:171: DeprecationWarning: The truth value of an empty array is ambiguous. Returning False, but in future this will result in an error. Use `array.size > 0` to check that an array is not empty.\n",
      "  if diff:\n",
      "/home/ec2-user/anaconda3/lib/python3.6/site-packages/sklearn/preprocessing/label.py:171: DeprecationWarning: The truth value of an empty array is ambiguous. Returning False, but in future this will result in an error. Use `array.size > 0` to check that an array is not empty.\n",
      "  if diff:\n",
      "/home/ec2-user/anaconda3/lib/python3.6/site-packages/sklearn/preprocessing/label.py:171: DeprecationWarning: The truth value of an empty array is ambiguous. Returning False, but in future this will result in an error. Use `array.size > 0` to check that an array is not empty.\n",
      "  if diff:\n",
      "/home/ec2-user/anaconda3/lib/python3.6/site-packages/sklearn/preprocessing/label.py:171: DeprecationWarning: The truth value of an empty array is ambiguous. Returning False, but in future this will result in an error. Use `array.size > 0` to check that an array is not empty.\n",
      "  if diff:\n"
     ]
    },
    {
     "name": "stderr",
     "output_type": "stream",
     "text": [
      "/home/ec2-user/anaconda3/lib/python3.6/site-packages/sklearn/preprocessing/label.py:171: DeprecationWarning: The truth value of an empty array is ambiguous. Returning False, but in future this will result in an error. Use `array.size > 0` to check that an array is not empty.\n",
      "  if diff:\n",
      "/home/ec2-user/anaconda3/lib/python3.6/site-packages/sklearn/preprocessing/label.py:171: DeprecationWarning: The truth value of an empty array is ambiguous. Returning False, but in future this will result in an error. Use `array.size > 0` to check that an array is not empty.\n",
      "  if diff:\n",
      "/home/ec2-user/anaconda3/lib/python3.6/site-packages/sklearn/preprocessing/label.py:171: DeprecationWarning: The truth value of an empty array is ambiguous. Returning False, but in future this will result in an error. Use `array.size > 0` to check that an array is not empty.\n",
      "  if diff:\n",
      "/home/ec2-user/anaconda3/lib/python3.6/site-packages/sklearn/preprocessing/label.py:171: DeprecationWarning: The truth value of an empty array is ambiguous. Returning False, but in future this will result in an error. Use `array.size > 0` to check that an array is not empty.\n",
      "  if diff:\n",
      "/home/ec2-user/anaconda3/lib/python3.6/site-packages/sklearn/preprocessing/label.py:171: DeprecationWarning: The truth value of an empty array is ambiguous. Returning False, but in future this will result in an error. Use `array.size > 0` to check that an array is not empty.\n",
      "  if diff:\n",
      "/home/ec2-user/anaconda3/lib/python3.6/site-packages/sklearn/preprocessing/label.py:171: DeprecationWarning: The truth value of an empty array is ambiguous. Returning False, but in future this will result in an error. Use `array.size > 0` to check that an array is not empty.\n",
      "  if diff:\n",
      "/home/ec2-user/anaconda3/lib/python3.6/site-packages/sklearn/preprocessing/label.py:171: DeprecationWarning: The truth value of an empty array is ambiguous. Returning False, but in future this will result in an error. Use `array.size > 0` to check that an array is not empty.\n",
      "  if diff:\n",
      "/home/ec2-user/anaconda3/lib/python3.6/site-packages/sklearn/preprocessing/label.py:171: DeprecationWarning: The truth value of an empty array is ambiguous. Returning False, but in future this will result in an error. Use `array.size > 0` to check that an array is not empty.\n",
      "  if diff:\n",
      "/home/ec2-user/anaconda3/lib/python3.6/site-packages/sklearn/preprocessing/label.py:171: DeprecationWarning: The truth value of an empty array is ambiguous. Returning False, but in future this will result in an error. Use `array.size > 0` to check that an array is not empty.\n",
      "  if diff:\n",
      "/home/ec2-user/anaconda3/lib/python3.6/site-packages/sklearn/preprocessing/label.py:171: DeprecationWarning: The truth value of an empty array is ambiguous. Returning False, but in future this will result in an error. Use `array.size > 0` to check that an array is not empty.\n",
      "  if diff:\n",
      "/home/ec2-user/anaconda3/lib/python3.6/site-packages/sklearn/preprocessing/label.py:171: DeprecationWarning: The truth value of an empty array is ambiguous. Returning False, but in future this will result in an error. Use `array.size > 0` to check that an array is not empty.\n",
      "  if diff:\n",
      "/home/ec2-user/anaconda3/lib/python3.6/site-packages/sklearn/preprocessing/label.py:171: DeprecationWarning: The truth value of an empty array is ambiguous. Returning False, but in future this will result in an error. Use `array.size > 0` to check that an array is not empty.\n",
      "  if diff:\n",
      "/home/ec2-user/anaconda3/lib/python3.6/site-packages/sklearn/preprocessing/label.py:171: DeprecationWarning: The truth value of an empty array is ambiguous. Returning False, but in future this will result in an error. Use `array.size > 0` to check that an array is not empty.\n",
      "  if diff:\n"
     ]
    }
   ],
   "source": [
    "cvs = []\n",
    "for c in range(3, 10):\n",
    "    acc = np.mean(cross_val_score(l, train_poly_final, ytrain, cv = c, scoring='accuracy'))\n",
    "    cvs.append(acc)"
   ]
  },
  {
   "cell_type": "code",
   "execution_count": 21,
   "metadata": {
    "collapsed": true
   },
   "outputs": [],
   "source": [
    "import matplotlib.pyplot as plt\n",
    "%matplotlib inline"
   ]
  },
  {
   "cell_type": "code",
   "execution_count": 22,
   "metadata": {},
   "outputs": [
    {
     "data": {
      "text/plain": [
       "[<matplotlib.lines.Line2D at 0x7f1280ecbcf8>]"
      ]
     },
     "execution_count": 22,
     "metadata": {},
     "output_type": "execute_result"
    },
    {
     "data": {
      "image/png": "[encoded data removed]",
      "text/plain": [
       "<Figure size 432x288 with 1 Axes>"
      ]
     },
     "metadata": {},
     "output_type": "display_data"
    }
   ],
   "source": [
    "plt.plot(range(3,10),cvs)"
   ]
  },
  {
   "cell_type": "code",
   "execution_count": null,
   "metadata": {
    "collapsed": true
   },
   "outputs": [],
   "source": [
    "l.fit(all_train_df, ytrain)\n",
    "preds = l.predict(all_test_df)"
   ]
  },
  {
   "cell_type": "code",
   "execution_count": null,
   "metadata": {
    "collapsed": true
   },
   "outputs": [],
   "source": [
    "pd.DataFrame({'Id': test[id_cols].values, 'Cover_Type':preds}).to_csv('Submissions/base_lgbm.csv',index=False)"
   ]
  },
  {
   "cell_type": "code",
   "execution_count": null,
   "metadata": {
    "collapsed": true
   },
   "outputs": [],
   "source": []
  },
  {
   "cell_type": "code",
   "execution_count": null,
   "metadata": {
    "collapsed": true
   },
   "outputs": [],
   "source": []
  },
  {
   "cell_type": "code",
   "execution_count": null,
   "metadata": {
    "collapsed": true
   },
   "outputs": [],
   "source": []
  }
 ],
 "metadata": {
  "kernelspec": {
   "display_name": "Python 3",
   "language": "python",
   "name": "python3"
  },
  "language_info": {
   "codemirror_mode": {
    "name": "ipython",
    "version": 3
   },
   "file_extension": ".py",
   "mimetype": "text/x-python",
   "name": "python",
   "nbconvert_exporter": "python",
   "pygments_lexer": "ipython3",
   "version": "3.6.1"
  }
 },
 "nbformat": 4,
 "nbformat_minor": 2
}
