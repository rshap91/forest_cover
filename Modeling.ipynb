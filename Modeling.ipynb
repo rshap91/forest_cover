{
 "cells": [
  {
   "cell_type": "code",
   "execution_count": 1,
   "metadata": {
    "collapsed": true
   },
   "outputs": [],
   "source": [
    "import os\n",
    "import time\n",
    "import json\n",
    "import datetime as dt\n",
    "import numpy as np\n",
    "import pandas as pd\n",
    "import gc\n",
    "\n",
    "import matplotlib.pyplot as plt\n",
    "import seaborn as sns\n",
    "%matplotlib inline\n",
    "\n",
    "from sklearn import metrics\n",
    "from sklearn.preprocessing import StandardScaler, MinMaxScaler\n",
    "from sklearn.model_selection import cross_val_score, StratifiedKFold, GridSearchCV\n",
    "from sklearn.preprocessing import StandardScaler, MinMaxScaler\n",
    "from sklearn.linear_model import LogisticRegression, SGDClassifier\n",
    "from sklearn.discriminant_analysis import LinearDiscriminantAnalysis, QuadraticDiscriminantAnalysis\n",
    "from sklearn.neighbors import KNeighborsClassifier\n",
    "from sklearn.naive_bayes import GaussianNB, BernoulliNB, MultinomialNB\n",
    "from sklearn.svm import SVC\n",
    "from sklearn.ensemble import RandomForestClassifier, ExtraTreesClassifier, AdaBoostClassifier, VotingClassifier\n",
    "from sklearn.neural_network import MLPClassifier\n",
    "from xgboost import XGBClassifier\n",
    "from lightgbm import LGBMClassifier\n",
    "\n",
    "from bayes_opt import BayesianOptimization"
   ]
  },
  {
   "cell_type": "code",
   "execution_count": 2,
   "metadata": {
    "collapsed": true
   },
   "outputs": [],
   "source": [
    "pd.options.display.max_columns = 100\n",
    "pd.options.display.float_format = lambda x : \"{:,.2f}\".format(x)\n",
    "plt.rcParams['figure.figsize'] = (12,8)"
   ]
  },
  {
   "cell_type": "markdown",
   "metadata": {},
   "source": [
    "## Agenda:\n",
    "    - Load in train data set with selected engineered features\n",
    "    - Train a number of different models and evaluate\n",
    "        - Where possible use grid search\n",
    "        - For larger parameter spaces use Bayesian Optimization or sequential parameter tuning.\n",
    "    - Load in Test dataset and transform features so they align with our training dataset\n",
    "    - Make predictions with best models\n",
    "    - Ensemble model predictions"
   ]
  },
  {
   "cell_type": "markdown",
   "metadata": {},
   "source": [
    "### Load In Dataset"
   ]
  },
  {
   "cell_type": "code",
   "execution_count": 3,
   "metadata": {},
   "outputs": [
    {
     "data": {
      "text/plain": [
       "((15120, 54), (565892, 55))"
      ]
     },
     "execution_count": 3,
     "metadata": {},
     "output_type": "execute_result"
    }
   ],
   "source": [
    "# raw train and test\n",
    "train = pd.read_csv('clean_data/train.csv', dtype={'Id':str})\n",
    "test = pd.read_csv('clean_data/test.csv', dtype={'Id':str})\n",
    "\n",
    "train.shape, test.shape"
   ]
  },
  {
   "cell_type": "code",
   "execution_count": 4,
   "metadata": {},
   "outputs": [
    {
     "data": {
      "text/plain": [
       "(15120, 200)"
      ]
     },
     "execution_count": 4,
     "metadata": {},
     "output_type": "execute_result"
    }
   ],
   "source": [
    "# w engineered features\n",
    "poly_train = pd.read_csv('clean_data/train_poly_final.csv')\n",
    "poly_train.shape"
   ]
  },
  {
   "cell_type": "code",
   "execution_count": 5,
   "metadata": {
    "collapsed": true
   },
   "outputs": [],
   "source": [
    "# Reduce in-memory size of pandas dataframe by compressing dtypes\n",
    "def reduce_mem_usage(df):\n",
    "    \"\"\" iterate through all the columns of a dataframe and modify the data type\n",
    "        to reduce memory usage.\n",
    "    \"\"\"\n",
    "    start_mem = df.memory_usage().sum() / 1024**2\n",
    "    print('Memory usage of dataframe is {:.2f} MB'.format(start_mem))\n",
    "\n",
    "    for col in df.columns:\n",
    "        col_type = df[col].dtypes\n",
    "\n",
    "        if col_type != object:\n",
    "            c_min = df[col].min()\n",
    "            c_max = df[col].max()\n",
    "            if str(col_type)[:3] == 'int':\n",
    "                if c_min > np.iinfo(np.int8).min and c_max < np.iinfo(np.int8).max:\n",
    "                    df[col] = df[col].astype(np.int8)\n",
    "                elif c_min > np.iinfo(np.int16).min and c_max < np.iinfo(np.int16).max:\n",
    "                    df[col] = df[col].astype(np.int16)\n",
    "                elif c_min > np.iinfo(np.int32).min and c_max < np.iinfo(np.int32).max:\n",
    "                    df[col] = df[col].astype(np.int32)\n",
    "                elif c_min > np.iinfo(np.int64).min and c_max < np.iinfo(np.int64).max:\n",
    "                    df[col] = df[col].astype(np.int64)\n",
    "            else:\n",
    "                if c_min > np.finfo(np.float16).min and c_max < np.finfo(np.float16).max:\n",
    "                    df[col] = df[col].astype(np.float16)\n",
    "                elif c_min > np.finfo(np.float32).min and c_max < np.finfo(np.float32).max:\n",
    "                    df[col] = df[col].astype(np.float32)\n",
    "                else:\n",
    "                    df[col] = df[col].astype(np.float64)\n",
    "        #else: df[col] = df[col].astype('category')\n",
    "\n",
    "    end_mem = df.memory_usage().sum() / 1024**2\n",
    "    print('Memory usage after optimization is: {:.2f} MB'.format(end_mem))\n",
    "    print('Decreased by {:.1f}%'.format(100 * (start_mem - end_mem) / start_mem))\n",
    "\n",
    "    return df"
   ]
  },
  {
   "cell_type": "code",
   "execution_count": 6,
   "metadata": {},
   "outputs": [
    {
     "name": "stdout",
     "output_type": "stream",
     "text": [
      "Memory usage of dataframe is 23.07 MB\n",
      "Memory usage after optimization is: 5.77 MB\n",
      "Decreased by 75.0%\n",
      "Memory usage of dataframe is 6.23 MB\n",
      "Memory usage after optimization is: 1.01 MB\n",
      "Decreased by 83.8%\n",
      "Memory usage of dataframe is 237.46 MB\n",
      "Memory usage after optimization is: 38.32 MB\n",
      "Decreased by 83.9%\n"
     ]
    }
   ],
   "source": [
    "poly_train = reduce_mem_usage(poly_train)\n",
    "train = reduce_mem_usage(train)\n",
    "test = reduce_mem_usage(test)\n",
    "\n",
    "ytrain = train['Cover_Type']"
   ]
  },
  {
   "cell_type": "markdown",
   "metadata": {},
   "source": [
    "### Modeling:\n",
    "\n",
    "    - Logistic Regression\n",
    "    - LDA\n",
    "    - KNN\n",
    "    - SVM\n",
    "    - Random Forest and ExtraTrees\n",
    "    - Multi Layer Perceptron\n",
    "    - XGBoost\n",
    "    - LightGBM"
   ]
  },
  {
   "cell_type": "code",
   "execution_count": 8,
   "metadata": {},
   "outputs": [
    {
     "data": {
      "text/plain": [
       "0"
      ]
     },
     "execution_count": 8,
     "metadata": {},
     "output_type": "execute_result"
    }
   ],
   "source": [
    "# no nulls\n",
    "poly_train.isnull().sum().sum()"
   ]
  },
  {
   "cell_type": "code",
   "execution_count": null,
   "metadata": {
    "collapsed": true
   },
   "outputs": [],
   "source": []
  },
  {
   "cell_type": "code",
   "execution_count": 14,
   "metadata": {
    "collapsed": true
   },
   "outputs": [],
   "source": [
    "# Config\n",
    "seed=1111\n",
    "NCV=4 \n",
    "\n",
    "def grid_search(mod, x, y, param_grid, scale=False):\n",
    "    cv = StratifiedKFold(NCV, shuffle=True, random_state=seed)\n",
    "    grid = GridSearchCV(mod, param_grid, scoring='accuracy', n_jobs=-1, verbose=1,\n",
    "                        cv=cv)\n",
    "    \n",
    "    if scale:\n",
    "        x = scale.fit_transform(x)\n",
    "    # not sure what happened but multi-processing was freezing...\n",
    "    with parallel_backend('threading'):\n",
    "        grid.fit(x,y)\n",
    "    \n",
    "    print(\"Best Score:\", grid.best_score_)\n",
    "    print(grid.best_params_)\n",
    "    return grid\n",
    "\n",
    "def bayes_search(mod, x, y, param_bounds, default_params=None, ninit=10, niter=50):\n",
    "    default_params = default_params or {}\n",
    "    \n",
    "    # infer type of parameters and also cast categorical params to ints\n",
    "    param_dtypes = dict.fromkeys(list(param_bounds.keys()))\n",
    "    cat_params_map = {} # for exploring categorical/str parameter options\n",
    "    for p, val in param_bounds.items():\n",
    "        # check all same type\n",
    "        assert all([type(inner) == type(val[0]) for inner in val])\n",
    "        \n",
    "        param_dtypes[p] = type(val[0])\n",
    "        if not isinstance(val[0], (int, float)):\n",
    "            print(val)\n",
    "            # for str variables, options should be a list/tuple of possible values\n",
    "            cat_params_map[p] = {i:v for i,v in enumerate(val)} \n",
    "            param_bounds[p] = (0, len(val)-1)\n",
    "            \n",
    "    print(param_bounds)   \n",
    "    \n",
    "    # Inner function will take numeric params and change them to appropriate dtypes\n",
    "    # Then initiate and cross_val the estimator\n",
    "    def mod_func(**params):\n",
    "        for p,v in params.items():\n",
    "            if param_dtypes[p] == int:\n",
    "                params[p] = int(np.round(v,0))\n",
    "            elif param_dtypes[p] != float: # all non numeric are categorical (includes tuples for mlp)\n",
    "                params[p] = cat_params_map[p][int(np.round(v,0))]\n",
    "                \n",
    "        \n",
    "        est = mod(**default_params, **params)\n",
    "        cv = StratifiedKFold(NCV, True, seed)\n",
    "        acc = np.mean(cross_val_score(est, x, y, scoring='accuracy', cv=cv, n_jobs=-1))\n",
    "        return acc\n",
    "    \n",
    "    # run bayesopt\n",
    "    start = time.time()\n",
    "    BO = BayesianOptimization(mod_func, param_bounds, random_state=seed)\n",
    "    BO.maximize(ninit, niter)\n",
    "    print('TIME TAKEN (MIN):', (time.time() - start)/60)\n",
    "    return BO"
   ]
  },
  {
   "cell_type": "markdown",
   "metadata": {},
   "source": [
    "__Logistic Regression__"
   ]
  },
  {
   "cell_type": "code",
   "execution_count": 17,
   "metadata": {},
   "outputs": [
    {
     "name": "stdout",
     "output_type": "stream",
     "text": [
      "Fitting 4 folds for each of 8 candidates, totalling 32 fits\n"
     ]
    },
    {
     "name": "stderr",
     "output_type": "stream",
     "text": [
      "[Parallel(n_jobs=-1)]: Done  32 out of  32 | elapsed:  1.5min finished\n"
     ]
    },
    {
     "name": "stdout",
     "output_type": "stream",
     "text": [
      "Best Score: 0.7273809523809524\n",
      "{'C': 1.0, 'penalty': 'l1'}\n"
     ]
    }
   ],
   "source": [
    "lreg_param_grid = {\n",
    "    'C': np.arange(0.25,1.1,0.25),\n",
    "    'penalty': ['l1', 'l2']\n",
    "}\n",
    "\n",
    "lreg_grid = grid_search(LogisticRegression(), poly_train, ytrain, lreg_param_grid, scale=MinMaxScaler())"
   ]
  },
  {
   "cell_type": "code",
   "execution_count": 18,
   "metadata": {},
   "outputs": [],
   "source": [
    "lreg_results = lreg_grid.best_params_\n",
    "lreg_results.update({'accuracy': lreg_grid.best_score_})\n",
    "\n",
    "with open('models/lreg_results.json', 'w') as f:\n",
    "    json.dump(lreg_results, f)"
   ]
  },
  {
   "cell_type": "code",
   "execution_count": null,
   "metadata": {
    "collapsed": true
   },
   "outputs": [],
   "source": []
  },
  {
   "cell_type": "markdown",
   "metadata": {},
   "source": [
    "__LDA__"
   ]
  },
  {
   "cell_type": "code",
   "execution_count": 19,
   "metadata": {},
   "outputs": [
    {
     "name": "stdout",
     "output_type": "stream",
     "text": [
      "Fitting 4 folds for each of 6 candidates, totalling 24 fits\n"
     ]
    },
    {
     "name": "stderr",
     "output_type": "stream",
     "text": [
      "/Users/rick.shapiro/anaconda/lib/python3.6/site-packages/numpy/core/_methods.py:32: RuntimeWarning: overflow encountered in reduce\n",
      "  return umr_sum(a, axis, dtype, out, keepdims)\n",
      "/Users/rick.shapiro/anaconda/lib/python3.6/site-packages/sklearn/discriminant_analysis.py:442: UserWarning: The priors do not sum to 1. Renormalizing\n",
      "  UserWarning)\n",
      "/Users/rick.shapiro/anaconda/lib/python3.6/site-packages/numpy/core/_methods.py:117: RuntimeWarning: overflow encountered in reduce\n",
      "  ret = umr_sum(x, axis, dtype, out, keepdims)\n",
      "/Users/rick.shapiro/anaconda/lib/python3.6/site-packages/sklearn/discriminant_analysis.py:388: UserWarning: Variables are collinear.\n",
      "  warnings.warn(\"Variables are collinear.\")\n",
      "/Users/rick.shapiro/anaconda/lib/python3.6/site-packages/numpy/core/_methods.py:32: RuntimeWarning: overflow encountered in reduce\n",
      "  return umr_sum(a, axis, dtype, out, keepdims)\n",
      "/Users/rick.shapiro/anaconda/lib/python3.6/site-packages/numpy/core/_methods.py:32: RuntimeWarning: overflow encountered in reduce\n",
      "  return umr_sum(a, axis, dtype, out, keepdims)\n",
      "/Users/rick.shapiro/anaconda/lib/python3.6/site-packages/numpy/core/_methods.py:32: RuntimeWarning: overflow encountered in reduce\n",
      "  return umr_sum(a, axis, dtype, out, keepdims)\n",
      "/Users/rick.shapiro/anaconda/lib/python3.6/site-packages/sklearn/discriminant_analysis.py:442: UserWarning: The priors do not sum to 1. Renormalizing\n",
      "  UserWarning)\n",
      "/Users/rick.shapiro/anaconda/lib/python3.6/site-packages/numpy/core/_methods.py:117: RuntimeWarning: overflow encountered in reduce\n",
      "  ret = umr_sum(x, axis, dtype, out, keepdims)\n",
      "/Users/rick.shapiro/anaconda/lib/python3.6/site-packages/sklearn/discriminant_analysis.py:388: UserWarning: Variables are collinear.\n",
      "  warnings.warn(\"Variables are collinear.\")\n",
      "/Users/rick.shapiro/anaconda/lib/python3.6/site-packages/numpy/core/_methods.py:32: RuntimeWarning: overflow encountered in reduce\n",
      "  return umr_sum(a, axis, dtype, out, keepdims)\n",
      "/Users/rick.shapiro/anaconda/lib/python3.6/site-packages/numpy/core/_methods.py:32: RuntimeWarning: overflow encountered in reduce\n",
      "  return umr_sum(a, axis, dtype, out, keepdims)\n",
      "/Users/rick.shapiro/anaconda/lib/python3.6/site-packages/sklearn/discriminant_analysis.py:442: UserWarning: The priors do not sum to 1. Renormalizing\n",
      "  UserWarning)\n",
      "/Users/rick.shapiro/anaconda/lib/python3.6/site-packages/numpy/core/_methods.py:32: RuntimeWarning: overflow encountered in reduce\n",
      "  return umr_sum(a, axis, dtype, out, keepdims)\n",
      "/Users/rick.shapiro/anaconda/lib/python3.6/site-packages/numpy/core/_methods.py:32: RuntimeWarning: overflow encountered in reduce\n",
      "  return umr_sum(a, axis, dtype, out, keepdims)\n",
      "/Users/rick.shapiro/anaconda/lib/python3.6/site-packages/sklearn/discriminant_analysis.py:442: UserWarning: The priors do not sum to 1. Renormalizing\n",
      "  UserWarning)\n",
      "/Users/rick.shapiro/anaconda/lib/python3.6/site-packages/numpy/core/_methods.py:117: RuntimeWarning: overflow encountered in reduce\n",
      "  ret = umr_sum(x, axis, dtype, out, keepdims)\n",
      "/Users/rick.shapiro/anaconda/lib/python3.6/site-packages/sklearn/discriminant_analysis.py:388: UserWarning: Variables are collinear.\n",
      "  warnings.warn(\"Variables are collinear.\")\n",
      "[Parallel(n_jobs=-1)]: Done  24 out of  24 | elapsed:    7.9s finished\n",
      "/Users/rick.shapiro/anaconda/lib/python3.6/site-packages/numpy/core/_methods.py:32: RuntimeWarning: overflow encountered in reduce\n",
      "  return umr_sum(a, axis, dtype, out, keepdims)\n",
      "/Users/rick.shapiro/anaconda/lib/python3.6/site-packages/sklearn/discriminant_analysis.py:442: UserWarning: The priors do not sum to 1. Renormalizing\n",
      "  UserWarning)\n",
      "/Users/rick.shapiro/anaconda/lib/python3.6/site-packages/numpy/core/_methods.py:117: RuntimeWarning: overflow encountered in reduce\n",
      "  ret = umr_sum(x, axis, dtype, out, keepdims)\n"
     ]
    },
    {
     "name": "stdout",
     "output_type": "stream",
     "text": [
      "Best Score: 0.7117063492063492\n",
      "{'n_components': None}\n"
     ]
    },
    {
     "name": "stderr",
     "output_type": "stream",
     "text": [
      "/Users/rick.shapiro/anaconda/lib/python3.6/site-packages/sklearn/discriminant_analysis.py:388: UserWarning: Variables are collinear.\n",
      "  warnings.warn(\"Variables are collinear.\")\n"
     ]
    }
   ],
   "source": [
    "lda_param_grid = {\n",
    "    'n_components': [None, 25, 50, 100, 150, 199]\n",
    "}\n",
    "lda_grid = grid_search(LinearDiscriminantAnalysis(), poly_train, ytrain, lda_param_grid)"
   ]
  },
  {
   "cell_type": "code",
   "execution_count": 20,
   "metadata": {
    "collapsed": true
   },
   "outputs": [],
   "source": [
    "lda_results = lda_grid.best_params_\n",
    "lda_results.update({'accuracy': lda_grid.best_score_})\n",
    "\n",
    "with open('models/lda_results.json', 'w') as f:\n",
    "    json.dump(lda_results, f)"
   ]
  },
  {
   "cell_type": "markdown",
   "metadata": {},
   "source": [
    "__KNN__"
   ]
  },
  {
   "cell_type": "code",
   "execution_count": 24,
   "metadata": {},
   "outputs": [
    {
     "name": "stdout",
     "output_type": "stream",
     "text": [
      "Fitting 4 folds for each of 10 candidates, totalling 40 fits\n",
      "Best Score: 0.8353174603174603\n",
      "{'n_neighbors': 2, 'weights': 'distance'}\n"
     ]
    },
    {
     "name": "stderr",
     "output_type": "stream",
     "text": [
      "[Parallel(n_jobs=-1)]: Done  40 out of  40 | elapsed:  1.1min finished\n"
     ]
    }
   ],
   "source": [
    "knn_param_grid = {\n",
    "    'n_neighbors': [2**n for n in range(1,6)],\n",
    "    'weights' : ['uniform', 'distance']\n",
    "}\n",
    "\n",
    "knn_grid = grid_search(KNeighborsClassifier(), poly_train, ytrain, knn_param_grid, scale=MinMaxScaler())"
   ]
  },
  {
   "cell_type": "code",
   "execution_count": 25,
   "metadata": {
    "collapsed": true
   },
   "outputs": [],
   "source": [
    "knn_results = knn_grid.best_params_\n",
    "knn_results.update({'accuracy': knn_grid.best_score_})\n",
    "\n",
    "with open('models/knn_results.json', 'w') as f:\n",
    "    json.dump(knn_results, f)"
   ]
  },
  {
   "cell_type": "markdown",
   "metadata": {},
   "source": [
    "__SVM__"
   ]
  },
  {
   "cell_type": "code",
   "execution_count": 27,
   "metadata": {},
   "outputs": [
    {
     "name": "stdout",
     "output_type": "stream",
     "text": [
      "Fitting 4 folds for each of 16 candidates, totalling 64 fits\n"
     ]
    },
    {
     "name": "stderr",
     "output_type": "stream",
     "text": [
      "[Parallel(n_jobs=-1)]: Done  34 tasks      | elapsed:  9.0min\n",
      "/Users/rick.shapiro/anaconda/lib/python3.6/site-packages/sklearn/svm/base.py:218: ConvergenceWarning: Solver terminated early (max_iter=5000).  Consider pre-processing your data with StandardScaler or MinMaxScaler.\n",
      "  % self.max_iter, ConvergenceWarning)\n",
      "[Parallel(n_jobs=-1)]: Done  64 out of  64 | elapsed: 15.1min finished\n"
     ]
    },
    {
     "name": "stdout",
     "output_type": "stream",
     "text": [
      "Best Score: 0.736574074074074\n",
      "{'C': 1.0, 'kernel': 'linear'}\n"
     ]
    },
    {
     "name": "stderr",
     "output_type": "stream",
     "text": [
      "/Users/rick.shapiro/anaconda/lib/python3.6/site-packages/sklearn/svm/base.py:218: ConvergenceWarning: Solver terminated early (max_iter=5000).  Consider pre-processing your data with StandardScaler or MinMaxScaler.\n",
      "  % self.max_iter, ConvergenceWarning)\n"
     ]
    }
   ],
   "source": [
    "svc_param_grid = {\n",
    "    'C' : [0.25, 0.5, 0.75, 1.],\n",
    "    'kernel' : ['linear','rbf', 'poly', 'sigmoid']\n",
    "}\n",
    "svm_grid = grid_search(SVC(degree=2, max_iter=5000), poly_train, ytrain, svc_param_grid, scale=MinMaxScaler())"
   ]
  },
  {
   "cell_type": "code",
   "execution_count": 29,
   "metadata": {},
   "outputs": [],
   "source": [
    "svm_results = svm_grid.best_params_\n",
    "svm_results.update({'accuracy': svm_grid.best_score_})\n",
    "\n",
    "with open('models/svm_results.json', 'w') as f:\n",
    "    json.dump(svm_results, f)"
   ]
  },
  {
   "cell_type": "markdown",
   "metadata": {},
   "source": [
    "The next models require a lot of parameter tuning, so switching to Bayesian Optimization"
   ]
  },
  {
   "cell_type": "markdown",
   "metadata": {},
   "source": [
    "__Random Forest__"
   ]
  },
  {
   "cell_type": "code",
   "execution_count": null,
   "metadata": {
    "collapsed": true
   },
   "outputs": [],
   "source": [
    "rf_bounds = {\n",
    "    'criterion': ('gini', 'entropy'),\n",
    "    'n_estimators': (10,150),\n",
    "    'max_depth': (3,25),\n",
    "    'max_features': (2,50)\n",
    "}\n",
    "\n",
    "rf_opt = bayes_search(RandomForestClassifier, poly_train, ytrain, rf_bounds, ninit=10, niter=100)\n",
    "rf_opt.res['max']"
   ]
  },
  {
   "cell_type": "code",
   "execution_count": null,
   "metadata": {
    "collapsed": true
   },
   "outputs": [],
   "source": [
    "rf_results = rf_opt.res['max']['max_params']\n",
    "rf_results.update({rf_opt.res['max']['max_val']})\n",
    "\n",
    "with open('models/rf_results.json', 'w') as f:\n",
    "    json.dump(rf_results, f)"
   ]
  },
  {
   "cell_type": "markdown",
   "metadata": {},
   "source": [
    "__Extra Trees__"
   ]
  },
  {
   "cell_type": "code",
   "execution_count": null,
   "metadata": {
    "collapsed": true
   },
   "outputs": [],
   "source": [
    "et_bounds = {\n",
    "    'criterion': ('gini', 'entropy'),\n",
    "    'n_estimators': (10,150),\n",
    "    'max_depth': (3,25),\n",
    "    'max_features': (2,50)\n",
    "}\n",
    "\n",
    "et_opt = bayes_search(ExtraTreesClassifier, poly_train, ytrain, et_bounds, \n",
    "                   default_params={'bootstrap':True}, ninit=10, niter=100)\n",
    "et_opt.res['max']"
   ]
  },
  {
   "cell_type": "code",
   "execution_count": null,
   "metadata": {
    "collapsed": true
   },
   "outputs": [],
   "source": [
    "et_results = et_opt.res['max']['max_params']\n",
    "et_results.update({et_opt.res['max']['max_val']})\n",
    "\n",
    "with open('models/et_results.json', 'w') as f:\n",
    "    json.dump(et_results, f)"
   ]
  },
  {
   "cell_type": "markdown",
   "metadata": {},
   "source": [
    "__MLP__"
   ]
  },
  {
   "cell_type": "code",
   "execution_count": null,
   "metadata": {
    "collapsed": true
   },
   "outputs": [],
   "source": [
    "mlp_bounds = {\n",
    "    'hidden_layer_sizes': [(25, 15, 10), (25, 25), (50,)],\n",
    "    'activation' : ['logistic', 'tanh', 'relu'],\n",
    "    'learning_rate_init': (0.0001, 0.1),\n",
    "    'beta_1': (0.1, 0.9),\n",
    "    'beta_2': (0.1, 0.999),\n",
    "    'alpha' : (0.00001, 0.01)\n",
    "}\n",
    "\n",
    "mlp_default_args: {\n",
    "    'random_state': seed, \n",
    "}\n",
    "\n",
    "\n",
    "mlp_opt = bayes_search(MLPClassifier, poly_train, ytrain, mlp_bounds, mlp_default_args, ninit=10, niter=100)\n",
    "mlp_opt.res['max']"
   ]
  },
  {
   "cell_type": "code",
   "execution_count": null,
   "metadata": {
    "collapsed": true
   },
   "outputs": [],
   "source": [
    "mlp_results = mlp_opt.res['max']['max_params']\n",
    "mlp_results.update({mlp_opt.res['max']['max_val']})\n",
    "\n",
    "with open('models/mlp_results.json', 'w') as f:\n",
    "    json.dump(mlp_results, f)"
   ]
  },
  {
   "cell_type": "markdown",
   "metadata": {},
   "source": [
    "__LGBM__"
   ]
  },
  {
   "cell_type": "code",
   "execution_count": null,
   "metadata": {
    "collapsed": true
   },
   "outputs": [],
   "source": [
    "lgbm_bounds = {\n",
    "    'boosting_type': ['gbdt', 'dart'],\n",
    "    'max_depth': (3,25),\n",
    "    'learning_rate': (0.001, 0.9),\n",
    "    'n_estimators': (10,100),\n",
    "    'min_split_gain': (0.001, 0.1),\n",
    "    'subsample': (0.01,0.66),\n",
    "    'colsaple_bytree': (0.01,0.5),\n",
    "    'reg_alpha': (0.00, 1.00),\n",
    "    'reg_lambda': (0.00, 1.00),\n",
    "    \n",
    "}\n",
    "\n",
    "lgbm_default_args: {\n",
    "    'random_state': seed, \n",
    "    'objective': 'multiclass'\n",
    "}\n",
    "\n",
    "\n",
    "lgbm_opt = bayes_search(LGBMClassifier, poly_train, ytrain, lgbm_bounds, lgbm_default_args, ninit=10, niter=100)\n",
    "lgbm_opt.res['max']"
   ]
  },
  {
   "cell_type": "code",
   "execution_count": null,
   "metadata": {
    "collapsed": true
   },
   "outputs": [],
   "source": [
    "lgbm_results = lgbm_opt.res['max']['max_params']\n",
    "lgbm_results.update({lgbm_opt.res['max']['max_val']})\n",
    "\n",
    "with open('models/lgbm_results.json', 'w') as f:\n",
    "    json.dump(lgbm_results, f)"
   ]
  },
  {
   "cell_type": "markdown",
   "metadata": {},
   "source": [
    "__XGBoost__"
   ]
  },
  {
   "cell_type": "code",
   "execution_count": null,
   "metadata": {
    "collapsed": true
   },
   "outputs": [],
   "source": [
    "# NOT IMPLEMENTED\n",
    "xgb_bounds = {\n",
    "#     'boosting_type': ['gbdt', 'dart'],\n",
    "#     'max_depth': (3,25),\n",
    "#     'learning_rate': (0.001, 0.9),\n",
    "#     'n_estimators': (10,100),\n",
    "#     'min_split_gain': (0.001, 0.1),\n",
    "#     'subsample': (0.01,0.66),\n",
    "#     'colsaple_bytree': (0.01,0.5),\n",
    "#     'reg_alpha': (0.00, 1.00),\n",
    "#     'reg_lambda': (0.00, 1.00),\n",
    "    \n",
    "}\n",
    "\n",
    "xgb_default_args: {\n",
    "#     'random_state': seed, \n",
    "#     'objective': 'multiclass'\n",
    "}\n",
    "\n",
    "\n",
    "xgb_opt = bayes_search(LGBMClassifier, poly_train, ytrain, xgb_bounds, xgb_default_args, ninit=10, niter=100)\n",
    "xgb_opt.res['max']"
   ]
  },
  {
   "cell_type": "code",
   "execution_count": null,
   "metadata": {
    "collapsed": true
   },
   "outputs": [],
   "source": [
    "xgb_results = xgb_opt.res['max']['max_params']\n",
    "xgb_results.update({xgb_opt.res['max']['max_val']})\n",
    "\n",
    "with open('models/xgb_results.json', 'w') as f:\n",
    "    json.dump(xgb_results, f)"
   ]
  },
  {
   "cell_type": "code",
   "execution_count": null,
   "metadata": {
    "collapsed": true
   },
   "outputs": [],
   "source": [
    "# all_results\n",
    "\n",
    "all_results = [\n",
    "    lreg_results,\n",
    "    lda_results,\n",
    "    knn_results,\n",
    "    svm_results,\n",
    "    \n",
    "    rf_results,\n",
    "    et_results,\n",
    "    mlp_results,\n",
    "    lgbm_results,\n",
    "    xgb_results\n",
    "]\n",
    "\n"
   ]
  },
  {
   "cell_type": "markdown",
   "metadata": {},
   "source": [
    "### Transform Test Set"
   ]
  },
  {
   "cell_type": "code",
   "execution_count": null,
   "metadata": {
    "collapsed": true
   },
   "outputs": [],
   "source": []
  },
  {
   "cell_type": "code",
   "execution_count": null,
   "metadata": {
    "collapsed": true
   },
   "outputs": [],
   "source": []
  },
  {
   "cell_type": "markdown",
   "metadata": {},
   "source": [
    "### Submit Predictions"
   ]
  },
  {
   "cell_type": "code",
   "execution_count": null,
   "metadata": {
    "collapsed": true
   },
   "outputs": [],
   "source": [
    "test_id = test.Id\n",
    "xtest = test.iloc[:,1:]"
   ]
  },
  {
   "cell_type": "code",
   "execution_count": null,
   "metadata": {
    "collapsed": true
   },
   "outputs": [],
   "source": [
    "def write_submission(mod, params, xtrain, ytrain, test_id, xtest):\n",
    "\n",
    "    est = mod(**params)\n",
    "    est.fit(xtrain,ytrain)\n",
    "    preds = est.predict(xtest)\n",
    "    \n",
    "    \n",
    "    name = repr(est.base_estimator.__class__).split('.')[-1].strip('>').strip(\"'\")\n",
    "    est_id = len([s for s in os.listdir('Submissions/') if s.startswith(name)])+1\n",
    "    fname = \"{}{}_{}\".format(name, est_id, dt.date.today().strftime('%Y%m%d'))\n",
    "    \n",
    "    preds_df = pd.concat([pd.Series(test_id), pd.Series(preds)], axis=1)\n",
    "    preds_df.to_csv('Submissions/{}.csv'.format(fname), index=False)\n",
    "    \n",
    "    # write model params\n",
    "    with open('Submissions/{}_params.json'.format(fname), 'w') as f:\n",
    "        json.dump(params, f)\n",
    "        \n",
    "    return \n",
    "    \n",
    "    "
   ]
  },
  {
   "cell_type": "code",
   "execution_count": null,
   "metadata": {},
   "outputs": [],
   "source": [
    "write_submission(LGBMClassifier, {}, poly_train, ytrain, test_id, xtest)"
   ]
  },
  {
   "cell_type": "markdown",
   "metadata": {},
   "source": [
    "### Ensembling!"
   ]
  },
  {
   "cell_type": "code",
   "execution_count": null,
   "metadata": {
    "collapsed": true
   },
   "outputs": [],
   "source": []
  },
  {
   "cell_type": "code",
   "execution_count": null,
   "metadata": {
    "collapsed": true
   },
   "outputs": [],
   "source": []
  },
  {
   "cell_type": "code",
   "execution_count": null,
   "metadata": {
    "collapsed": true
   },
   "outputs": [],
   "source": []
  }
 ],
 "metadata": {
  "kernelspec": {
   "display_name": "Python 3",
   "language": "python",
   "name": "python3"
  },
  "language_info": {
   "codemirror_mode": {
    "name": "ipython",
    "version": 3
   },
   "file_extension": ".py",
   "mimetype": "text/x-python",
   "name": "python",
   "nbconvert_exporter": "python",
   "pygments_lexer": "ipython3",
   "version": "3.6.1"
  }
 },
 "nbformat": 4,
 "nbformat_minor": 2
}
