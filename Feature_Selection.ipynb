{
 "cells": [
  {
   "cell_type": "code",
   "execution_count": 3,
   "metadata": {
    "collapsed": true
   },
   "outputs": [],
   "source": [
    "import os\n",
    "import json\n",
    "import datetime as dt\n",
    "import time\n",
    "\n",
    "import pandas as pd\n",
    "import numpy as np\n",
    "\n",
    "import matplotlib.pyplot as plt\n",
    "import seaborn as sns\n",
    "%matplotlib inline\n",
    "\n",
    "\n",
    "from sklearn.preprocessing import StandardScaler, MinMaxScaler, RobustScaler\n",
    "from sklearn.model_selection import cross_val_score\n",
    "from sklearn.feature_selection import SelectKBest, chi2, RFE\n",
    "\n",
    "from sklearn.linear_model import LogisticRegression\n",
    "from sklearn.tree import DecisionTreeClassifier\n",
    "\n",
    "from sklearn import metrics"
   ]
  },
  {
   "cell_type": "code",
   "execution_count": 8,
   "metadata": {
    "collapsed": true
   },
   "outputs": [],
   "source": [
    "pd.options.display.max_columns = 80\n",
    "pd.options.display.float_format = lambda x : \"{:,.2f}\".format(x)\n",
    "\n",
    "sns.set_style('darkgrid')\n",
    "plt.rcParams['figure.figsize'] = (12,8)"
   ]
  },
  {
   "cell_type": "code",
   "execution_count": 13,
   "metadata": {},
   "outputs": [
    {
     "data": {
      "text/plain": [
       "((15120, 54), (565892, 55))"
      ]
     },
     "execution_count": 13,
     "metadata": {},
     "output_type": "execute_result"
    }
   ],
   "source": [
    "train = pd.read_csv('clean_data/train.csv', dtype={'Id':str})\n",
    "test = pd.read_csv('clean_data/test.csv', dtype={'Id':str})\n",
    "\n",
    "ytrain = train[target_col]\n",
    "\n",
    "train.shape, test.shape"
   ]
  },
  {
   "cell_type": "code",
   "execution_count": 12,
   "metadata": {},
   "outputs": [
    {
     "data": {
      "text/plain": [
       "((565892, 115), (565892, 115))"
      ]
     },
     "execution_count": 12,
     "metadata": {},
     "output_type": "execute_result"
    }
   ],
   "source": [
    "all_train_df = pd.read_csv('clean_data/all_train_df.csv', dtype={'Id':str})\n",
    "all_test_df = pd.read_csv('clean_data/all_test_df.csv', dtype={'Id':str})\n",
    "\n",
    "train.shape, test.shape"
   ]
  },
  {
   "cell_type": "code",
   "execution_count": 4,
   "metadata": {},
   "outputs": [],
   "source": [
    "with open('clean_data/train_cols.json', 'r') as f:\n",
    "    train_cols = json.load(f)"
   ]
  },
  {
   "cell_type": "code",
   "execution_count": 6,
   "metadata": {},
   "outputs": [],
   "source": [
    "id_col = train_cols['id']\n",
    "cat_cols = train_cols['cat_cols']\n",
    "int_cols = train_cols['int_cols']\n",
    "target_col = train_cols['target_col']\n",
    "\n",
    "ftr_cols = int_cols + cat_cols"
   ]
  },
  {
   "cell_type": "code",
   "execution_count": 82,
   "metadata": {
    "collapsed": true
   },
   "outputs": [],
   "source": [
    "N = 35 # nfeatures"
   ]
  },
  {
   "cell_type": "code",
   "execution_count": null,
   "metadata": {
    "collapsed": true
   },
   "outputs": [],
   "source": []
  },
  {
   "cell_type": "markdown",
   "metadata": {},
   "source": [
    "### Goal\n",
    "\n",
    "Build a function that performs various kinds of features selection on input dataset.\n",
    "\n",
    "This function will be used in modeling notebook.\n",
    "\n",
    "Methods:\n",
    "    - Correlations\n",
    "    - Chi2\n",
    "    - RFE\n",
    "    - Lasso"
   ]
  },
  {
   "cell_type": "code",
   "execution_count": null,
   "metadata": {
    "collapsed": true
   },
   "outputs": [],
   "source": []
  },
  {
   "cell_type": "markdown",
   "metadata": {},
   "source": [
    "___Correlation___"
   ]
  },
  {
   "cell_type": "code",
   "execution_count": 68,
   "metadata": {
    "collapsed": true
   },
   "outputs": [],
   "source": [
    "def top_corr(x,y,n):\n",
    "    \"\"\"\n",
    "    x Dataframe\n",
    "    y Series or array\n",
    "    \n",
    "    Returns series of ftr, score for top n most correlated features\n",
    "    Score is calculated the sum of abs correlations for all classes\n",
    "    \"\"\"\n",
    "    \n",
    "    class_dummies = pd.get_dummies(y).add_prefix('class_')\n",
    "    corrs = []\n",
    "    for col in x.columns:\n",
    "        corrs.append(dummied.apply(lambda c: c.corr(x[col])).abs().sum())\n",
    "        \n",
    "    return pd.DataFrame([corrs],columns=x.columns).T.squeeze().nlargest(n)"
   ]
  },
  {
   "cell_type": "code",
   "execution_count": 83,
   "metadata": {},
   "outputs": [
    {
     "data": {
      "text/plain": [
       "Elevation                            2.35\n",
       "Wilderness_Area4                     2.17\n",
       "PCA_K4                               2.17\n",
       "K3                                   2.15\n",
       "svd1                                 1.98\n",
       "nb_prob_2                            1.97\n",
       "nb_prob_1                            1.96\n",
       "nb_prob_0                            1.95\n",
       "pca0                                 1.94\n",
       "nb_prob_6                            1.83\n",
       "nb_prob_3                            1.80\n",
       "nb_prob_5                            1.79\n",
       "K4                                   1.79\n",
       "SVD_K3                               1.65\n",
       "Horizontal_Distance_To_Roadways      1.59\n",
       "nb_prob_4                            1.59\n",
       "Wilderness_Area1                     1.37\n",
       "pca1                                 1.34\n",
       "Soil_Type10                          1.31\n",
       "PCA_K11                              1.30\n",
       "svd2                                 1.27\n",
       "Horizontal_Distance_To_Fire_Points   1.26\n",
       "K7                                   1.20\n",
       "svd0                                 1.16\n",
       "SVD_K6                               1.05\n",
       "SVD_K7                               1.03\n",
       "Soil_Type3                           1.02\n",
       "pca5                                 0.99\n",
       "svd3                                 0.96\n",
       "svd5                                 0.96\n",
       "svd6                                 0.95\n",
       "Soil_Type38                          0.95\n",
       "pca4                                 0.94\n",
       "K8                                   0.90\n",
       "Soil_Type29                          0.90\n",
       "Name: 0, dtype: float64"
      ]
     },
     "execution_count": 83,
     "metadata": {},
     "output_type": "execute_result"
    }
   ],
   "source": [
    "top_corrs = top_corr(all_train_df, ytrain, N)\n",
    "top_corrs"
   ]
  },
  {
   "cell_type": "markdown",
   "metadata": {},
   "source": [
    "___Chi2___"
   ]
  },
  {
   "cell_type": "code",
   "execution_count": 94,
   "metadata": {
    "collapsed": true
   },
   "outputs": [],
   "source": [
    "\n",
    "def top_chi2(x, y, n):\n",
    "    \"\"\"\n",
    "    x Dataframe\n",
    "    y Series/Array -- class labels\n",
    "    n Int\n",
    "    \"\"\"\n",
    "\n",
    "    features = x.columns\n",
    "\n",
    "    # all features must be positive\n",
    "    x_norm = MinMaxScaler().fit_transform(x)\n",
    "\n",
    "    selector = SelectKBest(chi2, k=n)\n",
    "    selector.fit(x_norm, y)\n",
    "    # bool index on selected columns\n",
    "    selected = selector.get_support()\n",
    "\n",
    "    chi2_scores = pd.DataFrame(list(zip(features, selector.scores_)), columns=['ftr', 'chi2_score'])\n",
    "    chi2_ftrs = chi2_scores.loc[selected]\n",
    "\n",
    "    return chi2_ftrs.sort_values('chi2_score', ascending=False).head(n).set_index('ftr').squeeze()"
   ]
  },
  {
   "cell_type": "code",
   "execution_count": 95,
   "metadata": {},
   "outputs": [
    {
     "data": {
      "text/plain": [
       "ftr\n",
       "Wilderness_Area4   6,979.31\n",
       "nb_prob_6          6,537.16\n",
       "nb_prob_3          6,066.18\n",
       "Soil_Type3         3,815.45\n",
       "K4                 3,664.66\n",
       "Soil_Type10        3,629.01\n",
       "Soil_Type38        3,284.79\n",
       "Wilderness_Area1   3,104.40\n",
       "PCA_K4             2,990.29\n",
       "nb_prob_4          2,971.73\n",
       "Soil_Type39        2,932.23\n",
       "SVD_K3             2,897.73\n",
       "nb_prob_0          2,835.58\n",
       "K3                 2,746.07\n",
       "nb_prob_5          2,741.51\n",
       "nb_prob_2          2,547.31\n",
       "svd1               2,140.41\n",
       "Soil_Type40        2,103.99\n",
       "nb_prob_1          1,987.66\n",
       "pca0               1,960.25\n",
       "Soil_Type30        1,766.97\n",
       "Soil_Type29        1,652.45\n",
       "Wilderness_Area3   1,316.81\n",
       "Elevation          1,297.24\n",
       "Soil_Type4         1,281.22\n",
       "Soil_Type22        1,253.78\n",
       "Soil_Type17        1,087.83\n",
       "Soil_Type13        1,064.32\n",
       "Soil_Type12        1,061.52\n",
       "Soil_Type23        1,031.55\n",
       "SVD_K6               953.56\n",
       "pca1                 939.84\n",
       "Wilderness_Area2     912.52\n",
       "Soil_Type6           899.58\n",
       "svd2                 865.08\n",
       "Name: chi2_score, dtype: float64"
      ]
     },
     "execution_count": 95,
     "metadata": {},
     "output_type": "execute_result"
    }
   ],
   "source": [
    "top_chi2(all_train_df, ytrain, N)"
   ]
  },
  {
   "cell_type": "markdown",
   "metadata": {},
   "source": [
    "RFE"
   ]
  },
  {
   "cell_type": "code",
   "execution_count": null,
   "metadata": {
    "collapsed": true
   },
   "outputs": [],
   "source": []
  },
  {
   "cell_type": "code",
   "execution_count": null,
   "metadata": {
    "collapsed": true
   },
   "outputs": [],
   "source": []
  },
  {
   "cell_type": "code",
   "execution_count": null,
   "metadata": {
    "collapsed": true
   },
   "outputs": [],
   "source": []
  }
 ],
 "metadata": {
  "kernelspec": {
   "display_name": "Python 3",
   "language": "python",
   "name": "python3"
  },
  "language_info": {
   "codemirror_mode": {
    "name": "ipython",
    "version": 3
   },
   "file_extension": ".py",
   "mimetype": "text/x-python",
   "name": "python",
   "nbconvert_exporter": "python",
   "pygments_lexer": "ipython3",
   "version": "3.6.1"
  }
 },
 "nbformat": 4,
 "nbformat_minor": 2
}
