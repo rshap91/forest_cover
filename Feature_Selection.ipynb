{
 "cells": [
  {
   "cell_type": "code",
   "execution_count": 16,
   "metadata": {
    "collapsed": true
   },
   "outputs": [],
   "source": [
    "import os\n",
    "import json\n",
    "import datetime as dt\n",
    "import time\n",
    "\n",
    "import pandas as pd\n",
    "import numpy as np\n",
    "\n",
    "import matplotlib.pyplot as plt\n",
    "import seaborn as sns\n",
    "%matplotlib inline\n",
    "\n",
    "\n",
    "from sklearn.preprocessing import StandardScaler, MinMaxScaler, RobustScaler\n",
    "from sklearn.model_selection import cross_val_score\n",
    "from sklearn.feature_selection import SelectKBest, SelectFromModel, chi2, RFE\n",
    "\n",
    "from sklearn.linear_model import LogisticRegression\n",
    "from sklearn.tree import DecisionTreeClassifier\n",
    "from sklearn.ensemble import RandomForestClassifier, ExtraTreesClassifier, GradientBoostingClassifier\n",
    "from sklearn.svm import SVC\n",
    "\n",
    "from sklearn import metrics"
   ]
  },
  {
   "cell_type": "code",
   "execution_count": 2,
   "metadata": {
    "collapsed": true
   },
   "outputs": [],
   "source": [
    "pd.options.display.max_columns = 80\n",
    "pd.options.display.float_format = lambda x : \"{:,.2f}\".format(x)\n",
    "\n",
    "sns.set_style('darkgrid')\n",
    "plt.rcParams['figure.figsize'] = (12,8)"
   ]
  },
  {
   "cell_type": "code",
   "execution_count": 3,
   "metadata": {},
   "outputs": [
    {
     "data": {
      "text/plain": [
       "((15120, 54), (565892, 55))"
      ]
     },
     "execution_count": 3,
     "metadata": {},
     "output_type": "execute_result"
    }
   ],
   "source": [
    "train = pd.read_csv('clean_data/train.csv', dtype={'Id':str})\n",
    "test = pd.read_csv('clean_data/test.csv', dtype={'Id':str})\n",
    "\n",
    "train.shape, test.shape"
   ]
  },
  {
   "cell_type": "code",
   "execution_count": 4,
   "metadata": {},
   "outputs": [
    {
     "data": {
      "text/plain": [
       "((15120, 54), (565892, 55))"
      ]
     },
     "execution_count": 4,
     "metadata": {},
     "output_type": "execute_result"
    }
   ],
   "source": [
    "all_train_df = pd.read_csv('clean_data/all_train_df.csv', dtype={'Id':str})\n",
    "all_test_df = pd.read_csv('clean_data/all_test_df.csv', dtype={'Id':str})\n",
    "\n",
    "train.shape, test.shape"
   ]
  },
  {
   "cell_type": "code",
   "execution_count": 5,
   "metadata": {
    "collapsed": true
   },
   "outputs": [],
   "source": [
    "with open('clean_data/train_cols.json', 'r') as f:\n",
    "    train_cols = json.load(f)"
   ]
  },
  {
   "cell_type": "code",
   "execution_count": 6,
   "metadata": {
    "collapsed": true
   },
   "outputs": [],
   "source": [
    "id_col = train_cols['id']\n",
    "cat_cols = train_cols['cat_cols']\n",
    "int_cols = train_cols['int_cols']\n",
    "target_col = train_cols['target_col']\n",
    "\n",
    "ftr_cols = int_cols + cat_cols"
   ]
  },
  {
   "cell_type": "code",
   "execution_count": 7,
   "metadata": {
    "collapsed": true
   },
   "outputs": [],
   "source": [
    "ytrain = train[target_col]"
   ]
  },
  {
   "cell_type": "code",
   "execution_count": 15,
   "metadata": {
    "collapsed": true
   },
   "outputs": [],
   "source": [
    "N = 35 # nfeatures\n",
    "seed = 1111"
   ]
  },
  {
   "cell_type": "markdown",
   "metadata": {},
   "source": [
    "### Goal\n",
    "\n",
    "Build a function that performs various kinds of features selection on input dataset.\n",
    "\n",
    "This function will be used in modeling notebook.\n",
    "\n",
    "Methods:\n",
    "    - Correlations\n",
    "    - Chi2\n",
    "    - RFE\n",
    "    - Lasso\n",
    "   "
   ]
  },
  {
   "cell_type": "markdown",
   "metadata": {},
   "source": [
    "___Correlation___"
   ]
  },
  {
   "cell_type": "code",
   "execution_count": 41,
   "metadata": {
    "collapsed": true
   },
   "outputs": [],
   "source": [
    "def top_corr(x,y,n):\n",
    "    \"\"\"\n",
    "    x Dataframe\n",
    "    y Series or array\n",
    "    \n",
    "    Returns series of ftr, score for top n most correlated features\n",
    "    Score is calculated the sum of abs correlations for all classes\n",
    "    \"\"\"\n",
    "    \n",
    "    class_dummies = pd.get_dummies(y).add_prefix('class_')\n",
    "    corrs = []\n",
    "    for col in x.columns:\n",
    "        corrs.append(class_dummies.apply(lambda c: c.corr(x[col])).abs().sum())\n",
    "    \n",
    "    ret = pd.DataFrame([corrs],columns=x.columns).T.squeeze().nlargest(n)\n",
    "    # standardize\n",
    "    ret = ret = (ret-ret.min())/(ret.max()-ret.min())\n",
    "    ret.name = 'corrs'\n",
    "    \n",
    "    return ret"
   ]
  },
  {
   "cell_type": "markdown",
   "metadata": {},
   "source": [
    "___Chi2___"
   ]
  },
  {
   "cell_type": "code",
   "execution_count": 43,
   "metadata": {
    "collapsed": true
   },
   "outputs": [],
   "source": [
    "\n",
    "def top_chi2(x, y, n):\n",
    "    \"\"\"\n",
    "    x Dataframe\n",
    "    y Series/Array -- class labels\n",
    "    n Int\n",
    "    \"\"\"\n",
    "\n",
    "    features = x.columns\n",
    "\n",
    "    # all features must be positive\n",
    "    x_norm = MinMaxScaler().fit_transform(x)\n",
    "\n",
    "    selector = SelectKBest(chi2, k=n)\n",
    "    selector.fit(x_norm, y)\n",
    "    # bool index on selected columns\n",
    "    selected = selector.get_support()\n",
    "\n",
    "    chi2_scores = pd.DataFrame(list(zip(features, selector.scores_)), columns=['ftr', 'chi2_score'])\n",
    "    chi2_ftrs = chi2_scores.loc[selected]\n",
    "\n",
    "    ret = chi2_ftrs.sort_values('chi2_score', ascending=False).head(n).set_index('ftr').squeeze()\n",
    "    ret = (ret-ret.min())/(ret.max()-ret.min())\n",
    "    return ret"
   ]
  },
  {
   "cell_type": "markdown",
   "metadata": {},
   "source": [
    "___RFE___"
   ]
  },
  {
   "cell_type": "code",
   "execution_count": 13,
   "metadata": {
    "collapsed": true
   },
   "outputs": [],
   "source": [
    "def top_rfe(mod, x, y, n, step=0.05, **params):\n",
    "    selector = RFE(mod(**params), n, step, 1)\n",
    "    selector.fit(x, y)\n",
    "    selected = selector.get_support()\n",
    "    \n",
    "    rfe_ftrs = np.asarray(x.columns)[selected]\n",
    "    rfe_ftrs = pd.Series(1, index = rfe_ftrs)\n",
    "    return rfe_ftrs"
   ]
  },
  {
   "cell_type": "code",
   "execution_count": 21,
   "metadata": {
    "collapsed": true
   },
   "outputs": [],
   "source": []
  },
  {
   "cell_type": "markdown",
   "metadata": {},
   "source": [
    "___Lasso___"
   ]
  },
  {
   "cell_type": "code",
   "execution_count": 45,
   "metadata": {
    "collapsed": true,
    "scrolled": true
   },
   "outputs": [],
   "source": [
    "\n",
    "def top_lasso(x,y,n,step=0.1, verbose=0):\n",
    "    xscaled = MinMaxScaler().fit_transform(x.values)\n",
    "    C = n/xscaled.shape[1]\n",
    "\n",
    "    direction='down'\n",
    "    num_non_zero = xscaled.shape[1]\n",
    "    while num_non_zero != N:\n",
    "        if verbose:\n",
    "            print(\"Fitting Lasso with C =\",C)\n",
    "        l = LogisticRegression(penalty='l1', C=C)\n",
    "        l.fit(xscaled, y)\n",
    "        mask = l.coef_.mean(0)!=0\n",
    "        num_non_zero = mask.sum()\n",
    "        if verbose:\n",
    "            print('Num Non-Zero Features:', num_non_zero)\n",
    "        if num_non_zero == N:\n",
    "            ret = pd.Series(np.abs(l.coef_).mean(0)[mask], index = x.columns[mask])\n",
    "            ret.name='l1'\n",
    "            ret = (ret-ret.min())/(ret.max()-ret.min())\n",
    "            return ret\n",
    "        elif num_non_zero > N:\n",
    "            C *= 1-step\n",
    "            new_direction = 'down'\n",
    "        else:\n",
    "            C *= 1+step\n",
    "            new_direction = 'up'\n",
    "        \n",
    "        # if we change direction (overshot) lower step\n",
    "        if new_direction != direction:\n",
    "            step*=0.5\n",
    "            direction=new_direction\n",
    "            if verbose:\n",
    "                print('New Step:', step)\n"
   ]
  },
  {
   "cell_type": "code",
   "execution_count": null,
   "metadata": {
    "collapsed": true
   },
   "outputs": [],
   "source": []
  },
  {
   "cell_type": "code",
   "execution_count": null,
   "metadata": {
    "collapsed": true
   },
   "outputs": [],
   "source": []
  },
  {
   "cell_type": "code",
   "execution_count": null,
   "metadata": {
    "collapsed": true
   },
   "outputs": [],
   "source": [
    "rf_params = {'n_estimators': all_train_df.shape[1]-1, 'max_features':N, 'n_jobs':-1, 'random_state':seed}\n",
    "gb_params = {'n_estimators': all_train_df.shape[1]-1, 'random_state':seed}\n"
   ]
  },
  {
   "cell_type": "code",
   "execution_count": 66,
   "metadata": {
    "collapsed": true
   },
   "outputs": [],
   "source": [
    "def run_ftr_selection(X, Y, n, rf_params, gb_params):\n",
    "\n",
    "    top_corrs = top_corr(X, Y, n)\n",
    "    topchi2 = top_chi2(X, Y, n)\n",
    "\n",
    "    print('Fitting LogReg')\n",
    "    rfe_lreg_ftrs = top_rfe(LogisticRegression, X, Y, n, 0.1)\n",
    "    print()\n",
    "    print('Fitting RF')\n",
    "    rfe_rf_ftrs = top_rfe(RandomForestClassifier, X, Y, n, 0.1, **rf_params)\n",
    "    print()\n",
    "    print('Fitting GB')\n",
    "    rfe_gb_ftrs = top_rfe(GradientBoostingClassifier, X, Y, n, 0.1, **gb_params)\n",
    "\n",
    "    l1_ftrs = top_lasso(X, Y, n, 0.5, verbose=1)\n",
    "    \n",
    "    all_scores = [top_corrs, topchi2, rfe_lreg_ftrs, rfe_rf_ftrs, rfe_gb_ftrs, l1_ftrs]\n",
    "    \n",
    "    \n",
    "    all_scores = pd.concat(all_scores, axis=1)\n",
    "    all_scores.columns = ['corrs','chi2', 'rfe_lreg', 'rfe_rf', 'rfe_gb', 'l1']\n",
    "    \n",
    "    return all_scores.sum(1).nlargest(N)"
   ]
  },
  {
   "cell_type": "code",
   "execution_count": 68,
   "metadata": {
    "scrolled": true
   },
   "outputs": [
    {
     "data": {
      "text/plain": [
       "nb_prob_6                            5.57\n",
       "nb_prob_3                            5.20\n",
       "nb_prob_0                            4.75\n",
       "nb_prob_4                            4.61\n",
       "Elevation                            4.61\n",
       "nb_prob_2                            4.59\n",
       "nb_prob_1                            4.51\n",
       "nb_prob_5                            4.49\n",
       "pca0                                 3.98\n",
       "svd1                                 3.96\n",
       "Horizontal_Distance_To_Roadways      3.48\n",
       "pca1                                 3.32\n",
       "svd2                                 3.26\n",
       "Horizontal_Distance_To_Fire_Points   3.25\n",
       "Hillshade_Noon                       3.22\n",
       "Hillshade_9am                        3.05\n",
       "svd5                                 3.04\n",
       "pca8                                 3.04\n",
       "svd6                                 3.04\n",
       "pca4                                 3.03\n",
       "Horizontal_Distance_To_Hydrology     3.00\n",
       "Vertical_Distance_To_Hydrology       3.00\n",
       "pca2                                 3.00\n",
       "pca9                                 3.00\n",
       "K3                                   2.47\n",
       "PCA_K4                               2.33\n",
       "Wilderness_Area4                     2.31\n",
       "svd0                                 2.18\n",
       "pca5                                 2.07\n",
       "svd3                                 2.05\n",
       "svd9                                 2.00\n",
       "Aspect                               2.00\n",
       "Hillshade_3pm                        2.00\n",
       "pca3                                 2.00\n",
       "pca6                                 2.00\n",
       "dtype: float64"
      ]
     },
     "execution_count": 68,
     "metadata": {},
     "output_type": "execute_result"
    }
   ],
   "source": [
    "usecols = all_scores.sum(1).nlargest(N)\n",
    "usecols"
   ]
  },
  {
   "cell_type": "code",
   "execution_count": 70,
   "metadata": {},
   "outputs": [
    {
     "data": {
      "text/plain": [
       "<matplotlib.axes._subplots.AxesSubplot at 0x1168792e8>"
      ]
     },
     "execution_count": 70,
     "metadata": {},
     "output_type": "execute_result"
    },
    {
     "data": {
      "image/png": "[encoded data removed]",
      "text/plain": [
       "<Figure size 432x288 with 2 Axes>"
      ]
     },
     "metadata": {},
     "output_type": "display_data"
    }
   ],
   "source": [
    "sns.heatmap(all_train_df[usecols.index].corr(), cmap = 'RdBu_r')"
   ]
  },
  {
   "cell_type": "code",
   "execution_count": null,
   "metadata": {
    "collapsed": true
   },
   "outputs": [],
   "source": []
  },
  {
   "cell_type": "code",
   "execution_count": null,
   "metadata": {
    "collapsed": true
   },
   "outputs": [],
   "source": []
  },
  {
   "cell_type": "code",
   "execution_count": null,
   "metadata": {
    "collapsed": true
   },
   "outputs": [],
   "source": []
  },
  {
   "cell_type": "code",
   "execution_count": null,
   "metadata": {
    "collapsed": true
   },
   "outputs": [],
   "source": []
  },
  {
   "cell_type": "code",
   "execution_count": null,
   "metadata": {
    "collapsed": true
   },
   "outputs": [],
   "source": []
  },
  {
   "cell_type": "code",
   "execution_count": null,
   "metadata": {
    "collapsed": true
   },
   "outputs": [],
   "source": []
  }
 ],
 "metadata": {
  "kernelspec": {
   "display_name": "Python 3",
   "language": "python",
   "name": "python3"
  },
  "language_info": {
   "codemirror_mode": {
    "name": "ipython",
    "version": 3
   },
   "file_extension": ".py",
   "mimetype": "text/x-python",
   "name": "python",
   "nbconvert_exporter": "python",
   "pygments_lexer": "ipython3",
   "version": "3.6.1"
  }
 },
 "nbformat": 4,
 "nbformat_minor": 2
}
