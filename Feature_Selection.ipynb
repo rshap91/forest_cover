{
 "cells": [
  {
   "cell_type": "code",
   "execution_count": 1,
   "metadata": {
    "collapsed": true
   },
   "outputs": [],
   "source": [
    "import os\n",
    "import json\n",
    "import datetime as dt\n",
    "import time\n",
    "\n",
    "import pandas as pd\n",
    "import numpy as np\n",
    "\n",
    "import matplotlib.pyplot as plt\n",
    "import seaborn as sns\n",
    "%matplotlib inline\n",
    "\n",
    "\n",
    "from sklearn.preprocessing import StandardScaler, MinMaxScaler, RobustScaler\n",
    "from sklearn.model_selection import cross_val_score\n",
    "from sklearn.feature_selection import SelectKBest, chi2, RFE\n",
    "\n",
    "from sklearn.linear_model import LogisticRegression\n",
    "from sklearn.tree import DecisionTreeClassifier\n",
    "\n",
    "from sklearn import metrics"
   ]
  },
  {
   "cell_type": "code",
   "execution_count": 2,
   "metadata": {
    "collapsed": true
   },
   "outputs": [],
   "source": [
    "pd.options.display.max_columns = 80\n",
    "pd.options.display.float_format = lambda x : \"{:,.2f}\".format(x)\n",
    "\n",
    "sns.set_style('darkgrid')\n",
    "plt.rcParams['figure.figsize'] = (12,8)"
   ]
  },
  {
   "cell_type": "code",
   "execution_count": 4,
   "metadata": {},
   "outputs": [
    {
     "data": {
      "text/plain": [
       "((15120, 54), (565892, 55))"
      ]
     },
     "execution_count": 4,
     "metadata": {},
     "output_type": "execute_result"
    }
   ],
   "source": [
    "train = pd.read_csv('clean_data/train.csv', dtype={'Id':str})\n",
    "test = pd.read_csv('clean_data/test.csv', dtype={'Id':str})\n",
    "\n",
    "train.shape, test.shape"
   ]
  },
  {
   "cell_type": "code",
   "execution_count": 5,
   "metadata": {},
   "outputs": [
    {
     "data": {
      "text/plain": [
       "((15120, 54), (565892, 55))"
      ]
     },
     "execution_count": 5,
     "metadata": {},
     "output_type": "execute_result"
    }
   ],
   "source": [
    "all_train_df = pd.read_csv('clean_data/all_train_df.csv', dtype={'Id':str})\n",
    "all_test_df = pd.read_csv('clean_data/all_test_df.csv', dtype={'Id':str})\n",
    "\n",
    "train.shape, test.shape"
   ]
  },
  {
   "cell_type": "code",
   "execution_count": 6,
   "metadata": {
    "collapsed": true
   },
   "outputs": [],
   "source": [
    "with open('clean_data/train_cols.json', 'r') as f:\n",
    "    train_cols = json.load(f)"
   ]
  },
  {
   "cell_type": "code",
   "execution_count": 13,
   "metadata": {
    "collapsed": true
   },
   "outputs": [],
   "source": [
    "id_col = train_cols['id']\n",
    "cat_cols = train_cols['cat_cols']\n",
    "int_cols = train_cols['int_cols']\n",
    "target_col = train_cols['target_col']\n",
    "\n",
    "ftr_cols = int_cols + cat_cols"
   ]
  },
  {
   "cell_type": "code",
   "execution_count": 14,
   "metadata": {},
   "outputs": [],
   "source": [
    "ytrain = train[target_col]"
   ]
  },
  {
   "cell_type": "code",
   "execution_count": 15,
   "metadata": {
    "collapsed": true
   },
   "outputs": [],
   "source": [
    "N = 35 # nfeatures"
   ]
  },
  {
   "cell_type": "code",
   "execution_count": null,
   "metadata": {
    "collapsed": true
   },
   "outputs": [],
   "source": []
  },
  {
   "cell_type": "markdown",
   "metadata": {},
   "source": [
    "### Goal\n",
    "\n",
    "Build a function that performs various kinds of features selection on input dataset.\n",
    "\n",
    "This function will be used in modeling notebook.\n",
    "\n",
    "Methods:\n",
    "    - Correlations\n",
    "    - Chi2\n",
    "    - RFE\n",
    "    - Lasso"
   ]
  },
  {
   "cell_type": "code",
   "execution_count": null,
   "metadata": {
    "collapsed": true
   },
   "outputs": [],
   "source": []
  },
  {
   "cell_type": "markdown",
   "metadata": {},
   "source": [
    "___Correlation___"
   ]
  },
  {
   "cell_type": "code",
   "execution_count": 18,
   "metadata": {
    "collapsed": true
   },
   "outputs": [],
   "source": [
    "def top_corr(x,y,n):\n",
    "    \"\"\"\n",
    "    x Dataframe\n",
    "    y Series or array\n",
    "    \n",
    "    Returns series of ftr, score for top n most correlated features\n",
    "    Score is calculated the sum of abs correlations for all classes\n",
    "    \"\"\"\n",
    "    \n",
    "    class_dummies = pd.get_dummies(y).add_prefix('class_')\n",
    "    corrs = []\n",
    "    for col in x.columns:\n",
    "        corrs.append(class_dummies.apply(lambda c: c.corr(x[col])).abs().sum())\n",
    "        \n",
    "    return pd.DataFrame([corrs],columns=x.columns).T.squeeze().nlargest(n)"
   ]
  },
  {
   "cell_type": "code",
   "execution_count": 19,
   "metadata": {},
   "outputs": [
    {
     "data": {
      "text/plain": [
       "Elevation                            2.35\n",
       "Wilderness_Area4                     2.17\n",
       "PCA_K4                               2.17\n",
       "K3                                   2.15\n",
       "svd1                                 1.98\n",
       "nb_prob_2                            1.97\n",
       "nb_prob_1                            1.96\n",
       "nb_prob_0                            1.95\n",
       "pca0                                 1.94\n",
       "nb_prob_6                            1.83\n",
       "nb_prob_3                            1.80\n",
       "nb_prob_5                            1.79\n",
       "K4                                   1.79\n",
       "SVD_K3                               1.65\n",
       "Horizontal_Distance_To_Roadways      1.59\n",
       "nb_prob_4                            1.59\n",
       "Wilderness_Area1                     1.37\n",
       "pca1                                 1.34\n",
       "Soil_Type10                          1.31\n",
       "PCA_K11                              1.30\n",
       "svd2                                 1.27\n",
       "Horizontal_Distance_To_Fire_Points   1.26\n",
       "K7                                   1.20\n",
       "svd0                                 1.16\n",
       "SVD_K6                               1.05\n",
       "SVD_K7                               1.03\n",
       "Soil_Type3                           1.02\n",
       "pca5                                 0.99\n",
       "svd3                                 0.96\n",
       "svd5                                 0.96\n",
       "svd6                                 0.95\n",
       "Soil_Type38                          0.95\n",
       "pca4                                 0.94\n",
       "K8                                   0.90\n",
       "Soil_Type29                          0.90\n",
       "Name: 0, dtype: float64"
      ]
     },
     "execution_count": 19,
     "metadata": {},
     "output_type": "execute_result"
    }
   ],
   "source": [
    "top_corrs = top_corr(all_train_df, ytrain, N)\n",
    "top_corrs"
   ]
  },
  {
   "cell_type": "markdown",
   "metadata": {},
   "source": [
    "___Chi2___"
   ]
  },
  {
   "cell_type": "code",
   "execution_count": 20,
   "metadata": {
    "collapsed": true
   },
   "outputs": [],
   "source": [
    "\n",
    "def top_chi2(x, y, n):\n",
    "    \"\"\"\n",
    "    x Dataframe\n",
    "    y Series/Array -- class labels\n",
    "    n Int\n",
    "    \"\"\"\n",
    "\n",
    "    features = x.columns\n",
    "\n",
    "    # all features must be positive\n",
    "    x_norm = MinMaxScaler().fit_transform(x)\n",
    "\n",
    "    selector = SelectKBest(chi2, k=n)\n",
    "    selector.fit(x_norm, y)\n",
    "    # bool index on selected columns\n",
    "    selected = selector.get_support()\n",
    "\n",
    "    chi2_scores = pd.DataFrame(list(zip(features, selector.scores_)), columns=['ftr', 'chi2_score'])\n",
    "    chi2_ftrs = chi2_scores.loc[selected]\n",
    "\n",
    "    return chi2_ftrs.sort_values('chi2_score', ascending=False).head(n).set_index('ftr').squeeze()"
   ]
  },
  {
   "cell_type": "code",
   "execution_count": 21,
   "metadata": {},
   "outputs": [
    {
     "data": {
      "text/plain": [
       "ftr\n",
       "Wilderness_Area4   6,979.31\n",
       "nb_prob_6          6,537.16\n",
       "nb_prob_3          6,066.18\n",
       "Soil_Type3         3,815.45\n",
       "K4                 3,664.66\n",
       "Soil_Type10        3,629.01\n",
       "Soil_Type38        3,284.79\n",
       "Wilderness_Area1   3,104.40\n",
       "PCA_K4             2,990.29\n",
       "nb_prob_4          2,971.73\n",
       "Soil_Type39        2,932.23\n",
       "SVD_K3             2,897.73\n",
       "nb_prob_0          2,835.58\n",
       "K3                 2,746.07\n",
       "nb_prob_5          2,741.51\n",
       "nb_prob_2          2,547.31\n",
       "svd1               2,140.41\n",
       "Soil_Type40        2,103.99\n",
       "nb_prob_1          1,987.66\n",
       "pca0               1,960.25\n",
       "Soil_Type30        1,766.97\n",
       "Soil_Type29        1,652.45\n",
       "Wilderness_Area3   1,316.81\n",
       "Elevation          1,297.24\n",
       "Soil_Type4         1,281.22\n",
       "Soil_Type22        1,253.78\n",
       "Soil_Type17        1,087.83\n",
       "Soil_Type13        1,064.32\n",
       "Soil_Type12        1,061.52\n",
       "Soil_Type23        1,031.55\n",
       "SVD_K6               953.56\n",
       "pca1                 939.84\n",
       "Wilderness_Area2     912.52\n",
       "Soil_Type6           899.58\n",
       "svd2                 865.08\n",
       "Name: chi2_score, dtype: float64"
      ]
     },
     "execution_count": 21,
     "metadata": {},
     "output_type": "execute_result"
    }
   ],
   "source": [
    "topchi2 = top_chi2(all_train_df, ytrain, N)\n",
    "topchi2"
   ]
  },
  {
   "cell_type": "markdown",
   "metadata": {},
   "source": [
    "___RFE___"
   ]
  },
  {
   "cell_type": "code",
   "execution_count": 29,
   "metadata": {
    "collapsed": true
   },
   "outputs": [],
   "source": [
    "def top_rfe(mod, x, y, n, step=0.05, **params):\n",
    "    selector = RFE(mod(**params), n, step, 1)\n",
    "    selector.fit(x, y)\n",
    "    selected = selector.get_support()\n",
    "    \n",
    "    rfe_ftrs = np.asarray(x.columns)[selected]\n",
    "    rfe_ftrs = pd.Series(1, index = rfe_ftrs)\n",
    "    return rfe_ftrs"
   ]
  },
  {
   "cell_type": "code",
   "execution_count": 30,
   "metadata": {},
   "outputs": [
    {
     "name": "stdout",
     "output_type": "stream",
     "text": [
      "Fitting estimator with 115 features.\n",
      "Fitting estimator with 110 features.\n",
      "Fitting estimator with 105 features.\n",
      "Fitting estimator with 100 features.\n",
      "Fitting estimator with 95 features.\n",
      "Fitting estimator with 90 features.\n",
      "Fitting estimator with 85 features.\n",
      "Fitting estimator with 80 features.\n",
      "Fitting estimator with 75 features.\n",
      "Fitting estimator with 70 features.\n",
      "Fitting estimator with 65 features.\n",
      "Fitting estimator with 60 features.\n",
      "Fitting estimator with 55 features.\n",
      "Fitting estimator with 50 features.\n",
      "Fitting estimator with 45 features.\n",
      "Fitting estimator with 40 features.\n"
     ]
    },
    {
     "data": {
      "text/plain": [
       "Elevation                             1\n",
       "Slope                                 1\n",
       "Horizontal_Distance_To_Hydrology      1\n",
       "Vertical_Distance_To_Hydrology        1\n",
       "Horizontal_Distance_To_Roadways       1\n",
       "Hillshade_9am                         1\n",
       "Hillshade_Noon                        1\n",
       "Hillshade_3pm                         1\n",
       "Horizontal_Distance_To_Fire_Points    1\n",
       "Soil_Type2                            1\n",
       "Soil_Type6                            1\n",
       "Soil_Type12                           1\n",
       "Soil_Type13                           1\n",
       "Soil_Type17                           1\n",
       "Soil_Type20                           1\n",
       "Soil_Type23                           1\n",
       "Soil_Type33                           1\n",
       "K3                                    1\n",
       "svd0                                  1\n",
       "svd1                                  1\n",
       "svd2                                  1\n",
       "svd9                                  1\n",
       "pca0                                  1\n",
       "pca1                                  1\n",
       "pca4                                  1\n",
       "pca9                                  1\n",
       "SVD_K4                                1\n",
       "PCA_K4                                1\n",
       "nb_prob_0                             1\n",
       "nb_prob_1                             1\n",
       "nb_prob_2                             1\n",
       "nb_prob_3                             1\n",
       "nb_prob_4                             1\n",
       "nb_prob_5                             1\n",
       "nb_prob_6                             1\n",
       "dtype: int64"
      ]
     },
     "execution_count": 30,
     "metadata": {},
     "output_type": "execute_result"
    }
   ],
   "source": [
    "rfe_ftrs = top_rfe(LogisticRegression, all_train_df, ytrain, N)\n",
    "rfe_ftrs"
   ]
  },
  {
   "cell_type": "code",
   "execution_count": null,
   "metadata": {
    "collapsed": true
   },
   "outputs": [],
   "source": []
  },
  {
   "cell_type": "code",
   "execution_count": null,
   "metadata": {
    "collapsed": true
   },
   "outputs": [],
   "source": []
  },
  {
   "cell_type": "markdown",
   "metadata": {},
   "source": [
    "___Lasso___"
   ]
  },
  {
   "cell_type": "code",
   "execution_count": null,
   "metadata": {
    "collapsed": true
   },
   "outputs": [],
   "source": [
    "def top_lasso(x,y,n):\n",
    "    \n",
    "    l = LogisticRegression(penalty='l1', C=C)"
   ]
  },
  {
   "cell_type": "code",
   "execution_count": null,
   "metadata": {
    "collapsed": true
   },
   "outputs": [],
   "source": []
  },
  {
   "cell_type": "code",
   "execution_count": 38,
   "metadata": {},
   "outputs": [
    {
     "data": {
      "text/plain": [
       "array([4.46794924e+00, 1.69607163e-01, 7.18685496e-01, 1.04217201e+00,\n",
       "       3.53229305e-01, 8.65355520e-01, 2.52883310e-01, 1.08849719e+00,\n",
       "       2.89437809e-01, 1.99888861e+00, 0.00000000e+00, 0.00000000e+00,\n",
       "       0.00000000e+00, 0.00000000e+00, 4.35963416e-01, 5.66523108e-01,\n",
       "       1.25370609e-01, 2.68261886e-01, 1.33351480e-01, 3.17836846e-01,\n",
       "       0.00000000e+00, 3.53118769e-02, 0.00000000e+00, 4.56179389e-01,\n",
       "       7.31366347e-01, 1.07555484e-01, 3.17866664e-02, 2.31252451e-01,\n",
       "       4.95347138e-01, 2.30914805e-01, 8.14708086e-02, 3.38305229e-01,\n",
       "       0.00000000e+00, 2.48668587e-02, 2.23033409e-01, 3.25547690e-01,\n",
       "       0.00000000e+00, 1.77075928e-02, 0.00000000e+00, 4.13324020e-02,\n",
       "       0.00000000e+00, 0.00000000e+00, 1.98926703e-01, 4.92475593e-01,\n",
       "       6.48617102e-01, 3.84221806e-03, 1.69284277e-01, 0.00000000e+00,\n",
       "       1.00481291e-01, 6.99113705e-02, 6.91592949e-02, 1.74786061e-01,\n",
       "       2.80323804e-01, 1.06467541e-01, 0.00000000e+00, 1.87589355e-01,\n",
       "       3.17254337e-01, 1.37465507e-01, 2.57720224e-02, 1.45204992e-01,\n",
       "       8.49425121e-02, 8.86481195e-02, 9.60529412e-02, 8.93137356e-02,\n",
       "       8.26074027e-02, 9.60722288e-02, 0.00000000e+00, 0.00000000e+00,\n",
       "       1.10114850e-02, 0.00000000e+00, 1.09884312e-01, 0.00000000e+00,\n",
       "       0.00000000e+00, 0.00000000e+00, 0.00000000e+00, 0.00000000e+00,\n",
       "       1.41366240e-01, 3.54792862e-03, 0.00000000e+00, 0.00000000e+00,\n",
       "       0.00000000e+00, 6.05571680e-02, 0.00000000e+00, 9.22605758e-02,\n",
       "       0.00000000e+00, 3.56492122e-02, 0.00000000e+00, 1.10596714e-01,\n",
       "       1.07242388e-01, 5.28968985e-02, 1.21802307e-01, 1.17991943e-01,\n",
       "       6.08414083e-02, 2.85331128e-02, 8.63960955e-02, 3.36274642e-02,\n",
       "       0.00000000e+00, 1.01947939e+00, 1.97500657e-02, 1.83189387e-01,\n",
       "       1.27892155e-01, 1.15908998e-01, 4.78317297e-02, 7.48516717e-02,\n",
       "       2.43389659e-01, 6.96361539e-02, 5.94105104e-02, 2.74726764e-02,\n",
       "       3.38656696e+00, 2.31806126e+00, 9.01746338e-01, 1.30522822e+00,\n",
       "       1.53369738e+00, 1.58474756e+00, 2.49767397e+00])"
      ]
     },
     "execution_count": 38,
     "metadata": {},
     "output_type": "execute_result"
    }
   ],
   "source": [
    "np.abs(l.coef_).mean(0)"
   ]
  },
  {
   "cell_type": "code",
   "execution_count": 33,
   "metadata": {},
   "outputs": [
    {
     "ename": "IndexError",
     "evalue": "too many indices for array",
     "output_type": "error",
     "traceback": [
      "\u001b[0;31m---------------------------------------------------------------------------\u001b[0m",
      "\u001b[0;31mIndexError\u001b[0m                                Traceback (most recent call last)",
      "\u001b[0;32m<ipython-input-33-b62d17dc3311>\u001b[0m in \u001b[0;36m<module>\u001b[0;34m()\u001b[0m\n\u001b[1;32m      3\u001b[0m \u001b[0mmask\u001b[0m \u001b[0;34m=\u001b[0m \u001b[0ml\u001b[0m\u001b[0;34m.\u001b[0m\u001b[0mcoef_\u001b[0m\u001b[0;34m!=\u001b[0m\u001b[0;36m0\u001b[0m\u001b[0;34m\u001b[0m\u001b[0m\n\u001b[1;32m      4\u001b[0m \u001b[0;34m\u001b[0m\u001b[0m\n\u001b[0;32m----> 5\u001b[0;31m \u001b[0mlist\u001b[0m\u001b[0;34m(\u001b[0m\u001b[0mzip\u001b[0m\u001b[0;34m(\u001b[0m\u001b[0mall_train_df\u001b[0m\u001b[0;34m.\u001b[0m\u001b[0mcolumns\u001b[0m\u001b[0;34m[\u001b[0m\u001b[0mmask\u001b[0m\u001b[0;34m]\u001b[0m\u001b[0;34m,\u001b[0m \u001b[0ml\u001b[0m\u001b[0;34m.\u001b[0m\u001b[0mcoef_\u001b[0m\u001b[0;34m[\u001b[0m\u001b[0mmask\u001b[0m\u001b[0;34m]\u001b[0m\u001b[0;34m)\u001b[0m\u001b[0;34m)\u001b[0m\u001b[0;34m\u001b[0m\u001b[0m\n\u001b[0m",
      "\u001b[0;32m/Users/rick.shapiro/anaconda/lib/python3.6/site-packages/pandas/core/indexes/base.py\u001b[0m in \u001b[0;36m__getitem__\u001b[0;34m(self, key)\u001b[0m\n\u001b[1;32m   2093\u001b[0m \u001b[0;34m\u001b[0m\u001b[0m\n\u001b[1;32m   2094\u001b[0m         \u001b[0mkey\u001b[0m \u001b[0;34m=\u001b[0m \u001b[0mcom\u001b[0m\u001b[0;34m.\u001b[0m\u001b[0m_values_from_object\u001b[0m\u001b[0;34m(\u001b[0m\u001b[0mkey\u001b[0m\u001b[0;34m)\u001b[0m\u001b[0;34m\u001b[0m\u001b[0m\n\u001b[0;32m-> 2095\u001b[0;31m         \u001b[0mresult\u001b[0m \u001b[0;34m=\u001b[0m \u001b[0mgetitem\u001b[0m\u001b[0;34m(\u001b[0m\u001b[0mkey\u001b[0m\u001b[0;34m)\u001b[0m\u001b[0;34m\u001b[0m\u001b[0m\n\u001b[0m\u001b[1;32m   2096\u001b[0m         \u001b[0;32mif\u001b[0m \u001b[0;32mnot\u001b[0m \u001b[0mis_scalar\u001b[0m\u001b[0;34m(\u001b[0m\u001b[0mresult\u001b[0m\u001b[0;34m)\u001b[0m\u001b[0;34m:\u001b[0m\u001b[0;34m\u001b[0m\u001b[0m\n\u001b[1;32m   2097\u001b[0m             \u001b[0;32mreturn\u001b[0m \u001b[0mpromote\u001b[0m\u001b[0;34m(\u001b[0m\u001b[0mresult\u001b[0m\u001b[0;34m)\u001b[0m\u001b[0;34m\u001b[0m\u001b[0m\n",
      "\u001b[0;31mIndexError\u001b[0m: too many indices for array"
     ]
    }
   ],
   "source": [
    "l = LogisticRegression(penalty='l1', C=0.3)\n",
    "l.fit(all_train_df, ytrain)\n",
    "mask = l.coef_!=0\n",
    "\n",
    "list(zip(all_train_df.columns[mask], l.coef_[mask]))"
   ]
  },
  {
   "cell_type": "code",
   "execution_count": null,
   "metadata": {
    "collapsed": true
   },
   "outputs": [],
   "source": []
  },
  {
   "cell_type": "code",
   "execution_count": null,
   "metadata": {
    "collapsed": true
   },
   "outputs": [],
   "source": []
  },
  {
   "cell_type": "code",
   "execution_count": 86,
   "metadata": {},
   "outputs": [
    {
     "data": {
      "text/plain": [
       "(1000, 11)"
      ]
     },
     "execution_count": 86,
     "metadata": {},
     "output_type": "execute_result"
    }
   ],
   "source": [
    "from sklearn.svm import SVC\n",
    "from sklearn.datasets import make_classification\n",
    "\n",
    "# Create a dataset with only 3 informative features\n",
    "X, y = make_classification(\n",
    "    n_samples=1000, n_features=11, n_informative=5, n_redundant=2,\n",
    "    n_repeated=0, n_classes=8, n_clusters_per_class=1, random_state=0\n",
    ")\n",
    "\n",
    "X.shape"
   ]
  },
  {
   "cell_type": "code",
   "execution_count": 87,
   "metadata": {},
   "outputs": [
    {
     "data": {
      "text/plain": [
       "array([0.09086308, 0.46207665, 0.1529445 , 0.06592885, 0.59719337,\n",
       "       0.12248879, 0.36488127, 0.32503965, 0.66566022, 0.31595705,\n",
       "       0.0965713 ])"
      ]
     },
     "execution_count": 87,
     "metadata": {},
     "output_type": "execute_result"
    }
   ],
   "source": [
    "lr = LogisticRegression()\n",
    "lr.fit(X,y)\n",
    "np.abs(lr.coef_).mean(0)"
   ]
  },
  {
   "cell_type": "code",
   "execution_count": 88,
   "metadata": {},
   "outputs": [
    {
     "data": {
      "text/plain": [
       "array([0.13455466, 0.2215584 , 0.2076402 , 0.03977634, 0.07105863,\n",
       "       0.24173489, 0.13082656, 0.0328983 , 0.27016   , 0.1630461 ,\n",
       "       0.05594337])"
      ]
     },
     "execution_count": 88,
     "metadata": {},
     "output_type": "execute_result"
    }
   ],
   "source": [
    "np.abs(lr.coef_.sum(0))"
   ]
  },
  {
   "cell_type": "code",
   "execution_count": 89,
   "metadata": {},
   "outputs": [
    {
     "data": {
      "text/plain": [
       "0.032898296083423983"
      ]
     },
     "execution_count": 89,
     "metadata": {},
     "output_type": "execute_result"
    }
   ],
   "source": [
    "np.abs(lr.coef_.sum(0)).min()"
   ]
  },
  {
   "cell_type": "code",
   "execution_count": 90,
   "metadata": {},
   "outputs": [
    {
     "name": "stdout",
     "output_type": "stream",
     "text": [
      "Fitting estimator with 11 features.\n"
     ]
    },
    {
     "data": {
      "text/plain": [
       "array([ True,  True,  True, False,  True,  True,  True,  True,  True,\n",
       "        True,  True])"
      ]
     },
     "execution_count": 90,
     "metadata": {},
     "output_type": "execute_result"
    }
   ],
   "source": [
    "r = RFE(LogisticRegression(), 10, 1, 1)\n",
    "r.fit(X,y)\n",
    "r.get_support()"
   ]
  },
  {
   "cell_type": "code",
   "execution_count": null,
   "metadata": {
    "collapsed": true
   },
   "outputs": [],
   "source": []
  },
  {
   "cell_type": "code",
   "execution_count": null,
   "metadata": {
    "collapsed": true
   },
   "outputs": [],
   "source": []
  },
  {
   "cell_type": "code",
   "execution_count": null,
   "metadata": {
    "collapsed": true
   },
   "outputs": [],
   "source": []
  },
  {
   "cell_type": "code",
   "execution_count": null,
   "metadata": {
    "collapsed": true
   },
   "outputs": [],
   "source": []
  },
  {
   "cell_type": "code",
   "execution_count": null,
   "metadata": {
    "collapsed": true
   },
   "outputs": [],
   "source": []
  }
 ],
 "metadata": {
  "kernelspec": {
   "display_name": "Python 3",
   "language": "python",
   "name": "python3"
  },
  "language_info": {
   "codemirror_mode": {
    "name": "ipython",
    "version": 3
   },
   "file_extension": ".py",
   "mimetype": "text/x-python",
   "name": "python",
   "nbconvert_exporter": "python",
   "pygments_lexer": "ipython3",
   "version": "3.6.1"
  }
 },
 "nbformat": 4,
 "nbformat_minor": 2
}
